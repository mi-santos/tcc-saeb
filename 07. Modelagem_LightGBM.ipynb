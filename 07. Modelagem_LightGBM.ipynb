{
 "cells": [
  {
   "cell_type": "code",
   "execution_count": 1,
   "metadata": {},
   "outputs": [],
   "source": [
    "import pandas as pd\n",
    "import numpy as np\n",
    "\n",
    "from sklearn.preprocessing import LabelEncoder\n",
    "\n",
    "#Métricas \n",
    "from sklearn.metrics import roc_auc_score, roc_curve, f1_score, confusion_matrix, classification_report\n",
    "\n",
    "#Método de Filtro\n",
    "from sklearn.feature_selection import SelectKBest, SelectPercentile, f_classif\n",
    "\n",
    "import pickle\n",
    "from collections import Counter\n",
    "\n",
    "import lightgbm as lgb\n",
    "\n",
    "from bayes_opt import BayesianOptimization\n",
    "\n",
    "import shap\n",
    "\n",
    "#sampling\n",
    "from imblearn.under_sampling import RandomUnderSampler\n",
    "from imblearn.over_sampling import RandomOverSampler\n",
    "\n",
    "import warnings\n",
    "warnings.simplefilter(action='ignore', category=FutureWarning)\n",
    "pd.options.display.float_format = '{:,.3f}'.format"
   ]
  },
  {
   "cell_type": "markdown",
   "metadata": {},
   "source": [
    "Importa dados utilizando função que reduz o uso de memória"
   ]
  },
  {
   "cell_type": "code",
   "execution_count": 2,
   "metadata": {},
   "outputs": [],
   "source": [
    "def reduce_mem_usage(df, verbose=True):\n",
    "    numerics = ['int8','int16', 'int32', 'int64', 'float16', 'float32', 'float64']\n",
    "    start_mem = df.memory_usage().sum() / 1024**2    \n",
    "    for col in df.columns:\n",
    "        col_type = df[col].dtypes\n",
    "        if col_type in numerics:\n",
    "            c_min = df[col].min()\n",
    "            c_max = df[col].max()\n",
    "            if str(col_type)[:3] == 'int':\n",
    "                if c_min > np.iinfo(np.int8).min and c_max < np.iinfo(np.int8).max:\n",
    "                    df[col] = df[col].astype(np.int8)\n",
    "                elif c_min > np.iinfo(np.int16).min and c_max < np.iinfo(np.int16).max:\n",
    "                    df[col] = df[col].astype(np.int16)\n",
    "                elif c_min > np.iinfo(np.int32).min and c_max < np.iinfo(np.int32).max:\n",
    "                    df[col] = df[col].astype(np.int32)\n",
    "                elif c_min > np.iinfo(np.int64).min and c_max < np.iinfo(np.int64).max:\n",
    "                    df[col] = df[col].astype(np.int64)  \n",
    "            else:\n",
    "                if c_min > np.finfo(np.float16).min and c_max < np.finfo(np.float16).max:\n",
    "                    df[col] = df[col].astype(np.float16)\n",
    "                elif c_min > np.finfo(np.float32).min and c_max < np.finfo(np.float32).max:\n",
    "                    df[col] = df[col].astype(np.float32)\n",
    "                else:\n",
    "                    df[col] = df[col].astype(np.float64)    \n",
    "    end_mem = df.memory_usage().sum() / 1024**2\n",
    "    if verbose: print('Mem. usage decreased to {:5.2f} Mb ({:.1f}% reduction)'.format(end_mem, 100 * (start_mem - end_mem) / start_mem))\n",
    "    return df"
   ]
  },
  {
   "cell_type": "code",
   "execution_count": 3,
   "metadata": {},
   "outputs": [
    {
     "name": "stdout",
     "output_type": "stream",
     "text": [
      "Mem. usage decreased to 232.52 Mb (2.9% reduction)\n"
     ]
    }
   ],
   "source": [
    "df = reduce_mem_usage(pd.read_csv('ABT_ABT_TARGET.csv'))"
   ]
  },
  {
   "cell_type": "markdown",
   "metadata": {},
   "source": [
    "Cria variável target e preenche dados vazios"
   ]
  },
  {
   "cell_type": "code",
   "execution_count": 4,
   "metadata": {},
   "outputs": [],
   "source": [
    "df['TARGET'] =  (df['TARGET_MT9']+df['TARGET_LP9']).apply(lambda x: 1 if x>0 else 0)\n",
    "df['PC_FORMACAO_DOCENTE_FINAL'].fillna(df['PC_FORMACAO_DOCENTE_FINAL'].mean(),inplace=True)"
   ]
  },
  {
   "cell_type": "markdown",
   "metadata": {},
   "source": [
    "Define variáveis que serão usadas no modelo"
   ]
  },
  {
   "cell_type": "code",
   "execution_count": 5,
   "metadata": {},
   "outputs": [],
   "source": [
    "inicio = df.columns.get_loc('TX_RESP_Q007')\n",
    "fim = df.columns.get_loc('PROF_TX_RESP_Q125')+1\n",
    "\n",
    "colunas = ['ID_PROVA_BRASIL', 'TARGET', 'ID_MUNICIPIO', 'ID_DEPENDENCIA_ADM', 'ID_LOCALIZACAO', 'PC_FORMACAO_DOCENTE_FINAL',\n",
    "'NU_MATRICULADOS_CENSO_9EF', 'TAXA_PARTICIPACAO_9EF'] + df.iloc[:,inicio:fim].columns.tolist()"
   ]
  },
  {
   "cell_type": "code",
   "execution_count": 6,
   "metadata": {},
   "outputs": [],
   "source": [
    "#cria df apenas com as variáveis que quero\n",
    "df_vars = df[colunas]"
   ]
  },
  {
   "cell_type": "markdown",
   "metadata": {},
   "source": [
    "Entendendo preenchimento das variáveis"
   ]
  },
  {
   "cell_type": "code",
   "execution_count": 7,
   "metadata": {},
   "outputs": [
    {
     "name": "stdout",
     "output_type": "stream",
     "text": [
      "Linhas totais:  98992 \n",
      "Linhas com algum dado nulo:  97045\n"
     ]
    }
   ],
   "source": [
    "print(\"Linhas totais: \", len(df_vars), \"\\nLinhas com algum dado nulo: \", len(df_vars[df_vars.isnull().values.any(axis=1)]))"
   ]
  },
  {
   "cell_type": "markdown",
   "metadata": {},
   "source": [
    "Avaliando variáveis do questionário"
   ]
  },
  {
   "cell_type": "code",
   "execution_count": 8,
   "metadata": {},
   "outputs": [
    {
     "name": "stdout",
     "output_type": "stream",
     "text": [
      "Quantidade de variáveis dos questionários:  304\n"
     ]
    }
   ],
   "source": [
    "df_tx = df_vars.filter(like=\"TX_RESP_Q\")\n",
    "print(\"Quantidade de variáveis dos questionários: \", df_tx.shape[1])"
   ]
  },
  {
   "cell_type": "code",
   "execution_count": 9,
   "metadata": {},
   "outputs": [
    {
     "data": {
      "text/plain": [
       "count   98,992.000\n",
       "mean         0.071\n",
       "std          0.130\n",
       "min          0.000\n",
       "25%          0.020\n",
       "50%          0.023\n",
       "75%          0.033\n",
       "max          1.000\n",
       "dtype: float64"
      ]
     },
     "execution_count": 9,
     "metadata": {},
     "output_type": "execute_result"
    }
   ],
   "source": [
    "#separa um def com o percentual de colunas de questionário nulas / total de colunas \n",
    "df_tx_null = df_tx.isnull().sum(axis=1)/(df_tx.shape[1])\n",
    "df_tx_null.describe()"
   ]
  },
  {
   "cell_type": "code",
   "execution_count": 10,
   "metadata": {},
   "outputs": [],
   "source": [
    "#define limite de corte para exclusão de linhas com dados nulos\n",
    "limite = df_tx_null.mean()"
   ]
  },
  {
   "cell_type": "code",
   "execution_count": 11,
   "metadata": {},
   "outputs": [
    {
     "name": "stdout",
     "output_type": "stream",
     "text": [
      "Limite percentual de colunas nulas na linha (média do total de linhas): 7.06% \n",
      "Linhas com dados nulos acima do limite: \n",
      "Qtd: 13811\n",
      "% 13.95\n"
     ]
    }
   ],
   "source": [
    "print(\"Limite percentual de colunas nulas na linha (média do total de linhas): {:3.2f}% \\nLinhas com dados nulos acima do limite: \\nQtd: {}\\n% {:3.2f}\".format(limite*100, df_vars[df_tx_null >= limite]['TARGET'].count(), (df_vars[df_tx_null >= limite]['TARGET'].count()/len(df_vars))*100))"
   ]
  },
  {
   "cell_type": "markdown",
   "metadata": {},
   "source": [
    "Remove linhas acima do limite"
   ]
  },
  {
   "cell_type": "code",
   "execution_count": 12,
   "metadata": {},
   "outputs": [],
   "source": [
    "df_limpo = df_vars.drop(df_vars[df_tx_null >= limite].index)"
   ]
  },
  {
   "cell_type": "markdown",
   "metadata": {},
   "source": [
    "Separa variáveis categóricas e cria LabelEncoder delas"
   ]
  },
  {
   "cell_type": "code",
   "execution_count": 13,
   "metadata": {},
   "outputs": [
    {
     "data": {
      "text/plain": [
       "Index(['TX_RESP_Q007', 'TX_RESP_Q008', 'TX_RESP_Q009', 'TX_RESP_Q010',\n",
       "       'TX_RESP_Q011', 'TX_RESP_Q012', 'TX_RESP_Q013', 'TX_RESP_Q014',\n",
       "       'TX_RESP_Q015', 'TX_RESP_Q016',\n",
       "       ...\n",
       "       'PROF_TX_RESP_Q116', 'PROF_TX_RESP_Q117', 'PROF_TX_RESP_Q118',\n",
       "       'PROF_TX_RESP_Q119', 'PROF_TX_RESP_Q120', 'PROF_TX_RESP_Q121',\n",
       "       'PROF_TX_RESP_Q122', 'PROF_TX_RESP_Q123', 'PROF_TX_RESP_Q124',\n",
       "       'PROF_TX_RESP_Q125'],\n",
       "      dtype='object', length=304)"
      ]
     },
     "execution_count": 13,
     "metadata": {},
     "output_type": "execute_result"
    }
   ],
   "source": [
    "categoricas = df_limpo.iloc[:,df_limpo.columns.get_loc('TX_RESP_Q007'):].columns\n",
    "categoricas"
   ]
  },
  {
   "cell_type": "code",
   "execution_count": 14,
   "metadata": {},
   "outputs": [
    {
     "name": "stdout",
     "output_type": "stream",
     "text": [
      "Salvando mapeamento das variáveis categoricas:\n",
      "dummies_modelo.pkl\n"
     ]
    }
   ],
   "source": [
    "mapeamento = {}\n",
    "\n",
    "for col in categoricas :\n",
    "    le = LabelEncoder()\n",
    "    le.fit(df_limpo[col].astype('str')) \n",
    "    mapeamento[col] = le\n",
    "\n",
    "print('Salvando mapeamento das variáveis categoricas:')\n",
    "path_mapeamento = 'dummies_modelo.pkl'\n",
    "print(path_mapeamento)\n",
    "pickle.dump(mapeamento, open(path_mapeamento, 'wb'))"
   ]
  },
  {
   "cell_type": "code",
   "execution_count": 15,
   "metadata": {},
   "outputs": [],
   "source": [
    "mapeamento = pickle.load(open(path_mapeamento, \"rb\"))\n",
    "\n",
    "for col in categoricas:\n",
    "    le = mapeamento[col]\n",
    "    for valor in df_limpo[col].unique():\n",
    "        if str(valor) not in le.classes_:\n",
    "            print(\"Valor não mapeado.\", valor, col)\n",
    "            df_limpo[col] = df_limpo[col].replace(valor, 'nan')\n",
    "    df_limpo[col] = le.transform(df_limpo[col].astype(str))"
   ]
  },
  {
   "cell_type": "code",
   "execution_count": 16,
   "metadata": {},
   "outputs": [
    {
     "data": {
      "text/html": [
       "<div>\n",
       "<style scoped>\n",
       "    .dataframe tbody tr th:only-of-type {\n",
       "        vertical-align: middle;\n",
       "    }\n",
       "\n",
       "    .dataframe tbody tr th {\n",
       "        vertical-align: top;\n",
       "    }\n",
       "\n",
       "    .dataframe thead th {\n",
       "        text-align: right;\n",
       "    }\n",
       "</style>\n",
       "<table border=\"1\" class=\"dataframe\">\n",
       "  <thead>\n",
       "    <tr style=\"text-align: right;\">\n",
       "      <th></th>\n",
       "      <th>TX_RESP_Q007</th>\n",
       "      <th>TX_RESP_Q008</th>\n",
       "      <th>TX_RESP_Q009</th>\n",
       "      <th>TX_RESP_Q010</th>\n",
       "      <th>TX_RESP_Q011</th>\n",
       "      <th>TX_RESP_Q012</th>\n",
       "      <th>TX_RESP_Q013</th>\n",
       "      <th>TX_RESP_Q014</th>\n",
       "      <th>TX_RESP_Q015</th>\n",
       "      <th>TX_RESP_Q016</th>\n",
       "      <th>...</th>\n",
       "      <th>PROF_TX_RESP_Q116</th>\n",
       "      <th>PROF_TX_RESP_Q117</th>\n",
       "      <th>PROF_TX_RESP_Q118</th>\n",
       "      <th>PROF_TX_RESP_Q119</th>\n",
       "      <th>PROF_TX_RESP_Q120</th>\n",
       "      <th>PROF_TX_RESP_Q121</th>\n",
       "      <th>PROF_TX_RESP_Q122</th>\n",
       "      <th>PROF_TX_RESP_Q123</th>\n",
       "      <th>PROF_TX_RESP_Q124</th>\n",
       "      <th>PROF_TX_RESP_Q125</th>\n",
       "    </tr>\n",
       "  </thead>\n",
       "  <tbody>\n",
       "    <tr>\n",
       "      <th>0</th>\n",
       "      <td>0</td>\n",
       "      <td>0</td>\n",
       "      <td>2</td>\n",
       "      <td>1</td>\n",
       "      <td>0</td>\n",
       "      <td>1</td>\n",
       "      <td>2</td>\n",
       "      <td>1</td>\n",
       "      <td>1</td>\n",
       "      <td>1</td>\n",
       "      <td>...</td>\n",
       "      <td>4</td>\n",
       "      <td>3</td>\n",
       "      <td>2</td>\n",
       "      <td>2</td>\n",
       "      <td>6</td>\n",
       "      <td>6</td>\n",
       "      <td>6</td>\n",
       "      <td>6</td>\n",
       "      <td>6</td>\n",
       "      <td>6</td>\n",
       "    </tr>\n",
       "    <tr>\n",
       "      <th>1</th>\n",
       "      <td>1</td>\n",
       "      <td>2</td>\n",
       "      <td>2</td>\n",
       "      <td>2</td>\n",
       "      <td>2</td>\n",
       "      <td>2</td>\n",
       "      <td>2</td>\n",
       "      <td>2</td>\n",
       "      <td>2</td>\n",
       "      <td>1</td>\n",
       "      <td>...</td>\n",
       "      <td>4</td>\n",
       "      <td>4</td>\n",
       "      <td>3</td>\n",
       "      <td>4</td>\n",
       "      <td>6</td>\n",
       "      <td>6</td>\n",
       "      <td>6</td>\n",
       "      <td>6</td>\n",
       "      <td>6</td>\n",
       "      <td>6</td>\n",
       "    </tr>\n",
       "    <tr>\n",
       "      <th>2</th>\n",
       "      <td>2</td>\n",
       "      <td>2</td>\n",
       "      <td>1</td>\n",
       "      <td>1</td>\n",
       "      <td>1</td>\n",
       "      <td>2</td>\n",
       "      <td>2</td>\n",
       "      <td>2</td>\n",
       "      <td>2</td>\n",
       "      <td>1</td>\n",
       "      <td>...</td>\n",
       "      <td>4</td>\n",
       "      <td>5</td>\n",
       "      <td>4</td>\n",
       "      <td>3</td>\n",
       "      <td>6</td>\n",
       "      <td>6</td>\n",
       "      <td>6</td>\n",
       "      <td>6</td>\n",
       "      <td>6</td>\n",
       "      <td>6</td>\n",
       "    </tr>\n",
       "    <tr>\n",
       "      <th>3</th>\n",
       "      <td>1</td>\n",
       "      <td>1</td>\n",
       "      <td>1</td>\n",
       "      <td>4</td>\n",
       "      <td>2</td>\n",
       "      <td>1</td>\n",
       "      <td>1</td>\n",
       "      <td>2</td>\n",
       "      <td>2</td>\n",
       "      <td>1</td>\n",
       "      <td>...</td>\n",
       "      <td>4</td>\n",
       "      <td>4</td>\n",
       "      <td>4</td>\n",
       "      <td>4</td>\n",
       "      <td>6</td>\n",
       "      <td>6</td>\n",
       "      <td>6</td>\n",
       "      <td>6</td>\n",
       "      <td>6</td>\n",
       "      <td>6</td>\n",
       "    </tr>\n",
       "    <tr>\n",
       "      <th>4</th>\n",
       "      <td>1</td>\n",
       "      <td>0</td>\n",
       "      <td>0</td>\n",
       "      <td>0</td>\n",
       "      <td>0</td>\n",
       "      <td>0</td>\n",
       "      <td>1</td>\n",
       "      <td>1</td>\n",
       "      <td>1</td>\n",
       "      <td>1</td>\n",
       "      <td>...</td>\n",
       "      <td>0</td>\n",
       "      <td>0</td>\n",
       "      <td>0</td>\n",
       "      <td>6</td>\n",
       "      <td>4</td>\n",
       "      <td>4</td>\n",
       "      <td>4</td>\n",
       "      <td>3</td>\n",
       "      <td>4</td>\n",
       "      <td>3</td>\n",
       "    </tr>\n",
       "  </tbody>\n",
       "</table>\n",
       "<p>5 rows × 304 columns</p>\n",
       "</div>"
      ],
      "text/plain": [
       "   TX_RESP_Q007  TX_RESP_Q008  TX_RESP_Q009  TX_RESP_Q010  TX_RESP_Q011  \\\n",
       "0             0             0             2             1             0   \n",
       "1             1             2             2             2             2   \n",
       "2             2             2             1             1             1   \n",
       "3             1             1             1             4             2   \n",
       "4             1             0             0             0             0   \n",
       "\n",
       "   TX_RESP_Q012  TX_RESP_Q013  TX_RESP_Q014  TX_RESP_Q015  TX_RESP_Q016  ...  \\\n",
       "0             1             2             1             1             1  ...   \n",
       "1             2             2             2             2             1  ...   \n",
       "2             2             2             2             2             1  ...   \n",
       "3             1             1             2             2             1  ...   \n",
       "4             0             1             1             1             1  ...   \n",
       "\n",
       "   PROF_TX_RESP_Q116  PROF_TX_RESP_Q117  PROF_TX_RESP_Q118  PROF_TX_RESP_Q119  \\\n",
       "0                  4                  3                  2                  2   \n",
       "1                  4                  4                  3                  4   \n",
       "2                  4                  5                  4                  3   \n",
       "3                  4                  4                  4                  4   \n",
       "4                  0                  0                  0                  6   \n",
       "\n",
       "   PROF_TX_RESP_Q120  PROF_TX_RESP_Q121  PROF_TX_RESP_Q122  PROF_TX_RESP_Q123  \\\n",
       "0                  6                  6                  6                  6   \n",
       "1                  6                  6                  6                  6   \n",
       "2                  6                  6                  6                  6   \n",
       "3                  6                  6                  6                  6   \n",
       "4                  4                  4                  4                  3   \n",
       "\n",
       "   PROF_TX_RESP_Q124  PROF_TX_RESP_Q125  \n",
       "0                  6                  6  \n",
       "1                  6                  6  \n",
       "2                  6                  6  \n",
       "3                  6                  6  \n",
       "4                  4                  3  \n",
       "\n",
       "[5 rows x 304 columns]"
      ]
     },
     "execution_count": 16,
     "metadata": {},
     "output_type": "execute_result"
    }
   ],
   "source": [
    "df_limpo[categoricas].head()"
   ]
  },
  {
   "cell_type": "markdown",
   "metadata": {},
   "source": [
    "Avalia correlação das colunas com variável **TARGET**"
   ]
  },
  {
   "cell_type": "code",
   "execution_count": 17,
   "metadata": {},
   "outputs": [
    {
     "data": {
      "text/html": [
       "[('TAXA_PARTICIPACAO_9EF', 0.16286793365648453), ('PROF_TX_RESP_Q096', 0.15370108793661594), ('ID_MUNICIPIO', 0.14598224514789043), ('TX_RESP_Q030', -0.14297046388634224), ('PC_FORMACAO_DOCENTE_FINAL', 0.14114571203571052), ('TX_RESP_Q054', -0.13420982465238163), ('PROF_TX_RESP_Q106', 0.12609322585663363), ('TX_RESP_Q036', 0.11769662766810889), ('DIRETOR_TX_RESP_Q038', 0.11521781795529389), ('TX_RESP_Q059', -0.11157979759392708), ('PROF_TX_RESP_Q095', 0.1095225508069785), ('TX_RESP_Q061', -0.10241179407664686), ('DIRETOR_TX_RESP_Q005', 0.10177316796097578), ('DIRETOR_TX_RESP_Q076', -0.10138560060851538), ('PROF_TX_RESP_Q099', 0.09923510342367949)]"
      ],
      "text/plain": [
       "[('TAXA_PARTICIPACAO_9EF', 0.16286793365648453),\n",
       " ('PROF_TX_RESP_Q096', 0.15370108793661594),\n",
       " ('ID_MUNICIPIO', 0.14598224514789043),\n",
       " ('TX_RESP_Q030', -0.14297046388634224),\n",
       " ('PC_FORMACAO_DOCENTE_FINAL', 0.14114571203571052),\n",
       " ('TX_RESP_Q054', -0.13420982465238163),\n",
       " ('PROF_TX_RESP_Q106', 0.12609322585663363),\n",
       " ('TX_RESP_Q036', 0.11769662766810889),\n",
       " ('DIRETOR_TX_RESP_Q038', 0.11521781795529389),\n",
       " ('TX_RESP_Q059', -0.11157979759392708),\n",
       " ('PROF_TX_RESP_Q095', 0.1095225508069785),\n",
       " ('TX_RESP_Q061', -0.10241179407664686),\n",
       " ('DIRETOR_TX_RESP_Q005', 0.10177316796097578),\n",
       " ('DIRETOR_TX_RESP_Q076', -0.10138560060851538),\n",
       " ('PROF_TX_RESP_Q099', 0.09923510342367949)]"
      ]
     },
     "execution_count": 17,
     "metadata": {},
     "output_type": "execute_result"
    }
   ],
   "source": [
    "corr_target = []\n",
    "\n",
    "for col in df_limpo.drop(columns=['TARGET', 'ID_PROVA_BRASIL']).columns:\n",
    "    corr = df_limpo['TARGET'].corr(df_limpo[col])\n",
    "    corr_target.append((col, corr))\n",
    "    \n",
    "sorted(corr_target, key = lambda x: abs(x[1]), reverse = True)[:15]"
   ]
  },
  {
   "cell_type": "markdown",
   "metadata": {},
   "source": [
    "Calcula correlação com todas as variáveis"
   ]
  },
  {
   "cell_type": "code",
   "execution_count": 18,
   "metadata": {},
   "outputs": [],
   "source": [
    "corr_colunas = df_limpo.drop(columns=['ID_PROVA_BRASIL']).corr().sort_values('TARGET', ascending = False)"
   ]
  },
  {
   "cell_type": "code",
   "execution_count": 19,
   "metadata": {},
   "outputs": [],
   "source": [
    "#define limite de correlação entre as variáveis\n",
    "limite_corr = 0.75\n",
    "\n",
    "colunas_acima_limite_corr = dict()\n",
    "\n",
    "for col in corr_colunas:\n",
    "    colunas_acima_limite_corr[col] = list(corr_colunas.index[corr_colunas[col] > limite_corr])"
   ]
  },
  {
   "cell_type": "code",
   "execution_count": 20,
   "metadata": {},
   "outputs": [],
   "source": [
    "#colunas_acima_limite_corr"
   ]
  },
  {
   "cell_type": "code",
   "execution_count": 21,
   "metadata": {},
   "outputs": [
    {
     "name": "stdout",
     "output_type": "stream",
     "text": [
      "Número de colunas para remover:  18\n"
     ]
    }
   ],
   "source": [
    "cols_remover = []\n",
    "cols_analisadas = []\n",
    "cols_remover_par = []\n",
    "\n",
    "for chave, valor in colunas_acima_limite_corr.items():\n",
    "    cols_analisadas.append(chave)\n",
    "    for x in valor:\n",
    "        if x == chave:\n",
    "            next\n",
    "        else:\n",
    "            # Remove apenas um do par\n",
    "            if x not in cols_analisadas:\n",
    "                cols_remover.append(x)\n",
    "                cols_remover_par.append(chave)\n",
    "            \n",
    "cols_remover = list(set(cols_remover))\n",
    "print('Número de colunas para remover: ', len(cols_remover))"
   ]
  },
  {
   "cell_type": "code",
   "execution_count": 22,
   "metadata": {},
   "outputs": [
    {
     "data": {
      "text/html": [
       "['PROF_TX_RESP_Q118', 'TX_RESP_Q029', 'TX_RESP_Q073', 'PROF_TX_RESP_Q012', 'TX_RESP_Q028', 'PROF_TX_RESP_Q009', 'DIRETOR_TX_RESP_Q009', 'PROF_TX_RESP_Q115', 'PROF_TX_RESP_Q124', 'PROF_TX_RESP_Q108', 'PROF_TX_RESP_Q117', 'PROF_TX_RESP_Q125', 'DIRETOR_TX_RESP_Q027', 'PROF_TX_RESP_Q122', 'PROF_TX_RESP_Q065', 'PROF_TX_RESP_Q116', 'DIRETOR_TX_RESP_Q012', 'PROF_TX_RESP_Q119']"
      ],
      "text/plain": [
       "['PROF_TX_RESP_Q118',\n",
       " 'TX_RESP_Q029',\n",
       " 'TX_RESP_Q073',\n",
       " 'PROF_TX_RESP_Q012',\n",
       " 'TX_RESP_Q028',\n",
       " 'PROF_TX_RESP_Q009',\n",
       " 'DIRETOR_TX_RESP_Q009',\n",
       " 'PROF_TX_RESP_Q115',\n",
       " 'PROF_TX_RESP_Q124',\n",
       " 'PROF_TX_RESP_Q108',\n",
       " 'PROF_TX_RESP_Q117',\n",
       " 'PROF_TX_RESP_Q125',\n",
       " 'DIRETOR_TX_RESP_Q027',\n",
       " 'PROF_TX_RESP_Q122',\n",
       " 'PROF_TX_RESP_Q065',\n",
       " 'PROF_TX_RESP_Q116',\n",
       " 'DIRETOR_TX_RESP_Q012',\n",
       " 'PROF_TX_RESP_Q119']"
      ]
     },
     "execution_count": 22,
     "metadata": {},
     "output_type": "execute_result"
    }
   ],
   "source": [
    "cols_remover"
   ]
  },
  {
   "cell_type": "markdown",
   "metadata": {},
   "source": [
    "Checa se existem dados nulos"
   ]
  },
  {
   "cell_type": "code",
   "execution_count": 23,
   "metadata": {},
   "outputs": [
    {
     "data": {
      "text/plain": [
       "3"
      ]
     },
     "execution_count": 23,
     "metadata": {},
     "output_type": "execute_result"
    }
   ],
   "source": [
    "df_limpo.isnull().sum().sum()"
   ]
  },
  {
   "cell_type": "markdown",
   "metadata": {},
   "source": [
    "### Separa bases de teste e treino.\n",
    "\n",
    "O treino será feito com a base de 2013, a validação com a base de 2015, e o teste com a base de 2017."
   ]
  },
  {
   "cell_type": "code",
   "execution_count": 24,
   "metadata": {},
   "outputs": [],
   "source": [
    "treino = df_limpo[df_limpo['ID_PROVA_BRASIL']==2013].drop(columns=['ID_PROVA_BRASIL']+cols_remover)"
   ]
  },
  {
   "cell_type": "code",
   "execution_count": 25,
   "metadata": {},
   "outputs": [],
   "source": [
    "validacao = df_limpo[df_limpo['ID_PROVA_BRASIL']==2015].drop(columns=['ID_PROVA_BRASIL']+cols_remover)"
   ]
  },
  {
   "cell_type": "code",
   "execution_count": 26,
   "metadata": {},
   "outputs": [],
   "source": [
    "teste = df_limpo[df_limpo['ID_PROVA_BRASIL']==2017].drop(columns=['ID_PROVA_BRASIL']+cols_remover)"
   ]
  },
  {
   "cell_type": "markdown",
   "metadata": {},
   "source": [
    "Separa base de variáveis e target"
   ]
  },
  {
   "cell_type": "code",
   "execution_count": 27,
   "metadata": {},
   "outputs": [],
   "source": [
    "treino_y = treino['TARGET']\n",
    "treino_x = treino.drop(columns=['TARGET'])"
   ]
  },
  {
   "cell_type": "code",
   "execution_count": 28,
   "metadata": {},
   "outputs": [],
   "source": [
    "validacao_y = validacao['TARGET']\n",
    "validacao_x = validacao.drop(columns=['TARGET'])"
   ]
  },
  {
   "cell_type": "code",
   "execution_count": 29,
   "metadata": {},
   "outputs": [],
   "source": [
    "teste_y = teste['TARGET']\n",
    "teste_x = teste.drop(columns=['TARGET'])"
   ]
  },
  {
   "cell_type": "code",
   "execution_count": 30,
   "metadata": {},
   "outputs": [
    {
     "data": {
      "text/plain": [
       "((27304, 292), (27304,))"
      ]
     },
     "execution_count": 30,
     "metadata": {},
     "output_type": "execute_result"
    }
   ],
   "source": [
    "treino_x.shape, treino_y.shape"
   ]
  },
  {
   "cell_type": "code",
   "execution_count": 31,
   "metadata": {},
   "outputs": [
    {
     "data": {
      "text/plain": [
       "((28163, 292), (28163,))"
      ]
     },
     "execution_count": 31,
     "metadata": {},
     "output_type": "execute_result"
    }
   ],
   "source": [
    "validacao_x.shape, validacao_y.shape"
   ]
  },
  {
   "cell_type": "code",
   "execution_count": 32,
   "metadata": {},
   "outputs": [
    {
     "data": {
      "text/plain": [
       "((29714, 292), (29714,))"
      ]
     },
     "execution_count": 32,
     "metadata": {},
     "output_type": "execute_result"
    }
   ],
   "source": [
    "teste_x.shape, teste_y.shape"
   ]
  },
  {
   "cell_type": "code",
   "execution_count": 33,
   "metadata": {},
   "outputs": [],
   "source": [
    "treino_y=treino_y.astype('int')\n",
    "validacao_y=validacao_y.astype('int')\n",
    "teste_y=teste_y.astype('int')"
   ]
  },
  {
   "cell_type": "code",
   "execution_count": 34,
   "metadata": {},
   "outputs": [
    {
     "data": {
      "text/plain": [
       "(Counter({0: 25811, 1: 1493}),\n",
       " Counter({0: 25498, 1: 2665}),\n",
       " Counter({0: 24566, 1: 5148}))"
      ]
     },
     "execution_count": 34,
     "metadata": {},
     "output_type": "execute_result"
    }
   ],
   "source": [
    "Counter(treino_y), Counter(validacao_y), Counter(teste_y)"
   ]
  },
  {
   "cell_type": "code",
   "execution_count": 35,
   "metadata": {},
   "outputs": [
    {
     "data": {
      "text/plain": [
       "(0.05468063287430413, 0.09462770301459361, 0.1732516658814027)"
      ]
     },
     "execution_count": 35,
     "metadata": {},
     "output_type": "execute_result"
    }
   ],
   "source": [
    "treino_y.mean(), validacao_y.mean(), teste_y.mean()"
   ]
  },
  {
   "cell_type": "markdown",
   "metadata": {},
   "source": [
    "### Seleção de variáveis"
   ]
  },
  {
   "cell_type": "markdown",
   "metadata": {},
   "source": [
    "Utiliza a função SelectKBest junto a um classificador para verificar qual quantidade de features apresenta melhor desempenho, dado a métrica escolhida (AUC). Essa tecnica visa limpar ao máximo os dados para que o modelo rode mais rápido, mantendo um ótimo resultado. "
   ]
  },
  {
   "cell_type": "code",
   "execution_count": 36,
   "metadata": {},
   "outputs": [],
   "source": [
    "k_vs_score = []\n",
    "range_procura = range(2,teste_x.shape[1],5)\n",
    "for k in range_procura:\n",
    "    seletor = SelectKBest(score_func=f_classif, k=k)\n",
    "\n",
    "    treino_x_fs = seletor.fit_transform(treino_x, treino_y)\n",
    "    teste_x_fs = seletor.transform(teste_x)\n",
    "\n",
    "    clf = lgb.LGBMClassifier(random_state=42)\n",
    "    clf.fit(treino_x_fs, treino_y)\n",
    "\n",
    "    predito = clf.predict(teste_x_fs)\n",
    "\n",
    "    score = roc_auc_score(teste_y, predito)\n",
    "    k_vs_score.append(score)"
   ]
  },
  {
   "cell_type": "code",
   "execution_count": 37,
   "metadata": {},
   "outputs": [
    {
     "data": {
      "text/plain": [
       "<matplotlib.axes._subplots.AxesSubplot at 0x20a6de65cc8>"
      ]
     },
     "execution_count": 37,
     "metadata": {},
     "output_type": "execute_result"
    },
    {
     "data": {
      "image/png": "[encoded data removed]",
      "text/plain": [
       "<Figure size 720x504 with 1 Axes>"
      ]
     },
     "metadata": {
      "needs_background": "light"
     },
     "output_type": "display_data"
    }
   ],
   "source": [
    "pd.Series(k_vs_score,index=range_procura).plot(figsize=(10,7))"
   ]
  },
  {
   "cell_type": "code",
   "execution_count": 38,
   "metadata": {},
   "outputs": [
    {
     "name": "stdout",
     "output_type": "stream",
     "text": [
      "Número de variáveis selecionadas:  187\n"
     ]
    }
   ],
   "source": [
    "ind = pd.Series(k_vs_score,index=range_procura).sort_values(ascending=False).index[0]\n",
    "print('Número de variáveis selecionadas: ', ind)"
   ]
  },
  {
   "cell_type": "markdown",
   "metadata": {},
   "source": [
    "O algoritmo teve sua melhor performance ao utilizar 187 variáveis. Passaremos essa informação novamente para que o SelectKBest devolva as 187 variáveis que apresentaram a melhor performance.\n",
    "Definidas as variáveis, definimos as bases de treino e teste."
   ]
  },
  {
   "cell_type": "code",
   "execution_count": 39,
   "metadata": {},
   "outputs": [
    {
     "data": {
      "text/plain": [
       "ID_MUNICIPIO            616.467\n",
       "PROF_TX_RESP_Q096       606.360\n",
       "DIRETOR_TX_RESP_Q086    538.891\n",
       "DIRETOR_TX_RESP_Q038    521.055\n",
       "TAXA_PARTICIPACAO_9EF   452.811\n",
       "                          ...  \n",
       "DIRETOR_TX_RESP_Q075     30.615\n",
       "PROF_TX_RESP_Q029        30.116\n",
       "PROF_TX_RESP_Q038        29.616\n",
       "TX_RESP_Q017             29.473\n",
       "PROF_TX_RESP_Q072        29.057\n",
       "Length: 187, dtype: float64"
      ]
     },
     "execution_count": 39,
     "metadata": {},
     "output_type": "execute_result"
    }
   ],
   "source": [
    "#Método de Filtro\n",
    "seletor = SelectKBest(score_func=f_classif, k=ind)\n",
    "seletor.fit(treino_x, treino_y)\n",
    "selecionadas = seletor.get_support()\n",
    "df_vars_filter = pd.Series(seletor.scores_, index=treino_x.columns)[selecionadas].sort_values(ascending=False)\n",
    "df_vars_filter"
   ]
  },
  {
   "cell_type": "code",
   "execution_count": 40,
   "metadata": {},
   "outputs": [
    {
     "data": {
      "text/plain": [
       "((27304, 187), (28163, 187), (29714, 187))"
      ]
     },
     "execution_count": 40,
     "metadata": {},
     "output_type": "execute_result"
    }
   ],
   "source": [
    "treino_xf = treino_x[treino_x.columns[selecionadas]]\n",
    "teste_xf = teste_x[treino_x.columns[selecionadas]]\n",
    "validacao_xf = validacao_x[treino_x.columns[selecionadas]]\n",
    "treino_xf.shape, validacao_xf.shape, teste_xf.shape"
   ]
  },
  {
   "cell_type": "markdown",
   "metadata": {},
   "source": [
    "### Modelagem"
   ]
  },
  {
   "cell_type": "markdown",
   "metadata": {},
   "source": [
    "Para otimizar os resultados, estou utilizando uma função de otimização de hyperparâmetros chamada BayesianOptimization.\n",
    "Essa função visa encontrar, dentro do range indicado, qual a combinação de hiperparâmetros que maximizam a métrica escolhida.\n",
    "É necessário tomar cuidado com a definição dos ranges para que o modelo não tenha overfting."
   ]
  },
  {
   "cell_type": "code",
   "execution_count": 41,
   "metadata": {},
   "outputs": [
    {
     "name": "stdout",
     "output_type": "stream",
     "text": [
      "|   iter    |  target   | baggin... | featur... | lambda_l1 | learni... |  max_bin  | max_depth | min_da... | num_le... |\n",
      "-------------------------------------------------------------------------------------------------------------------------\n",
      "| \u001b[0m 1       \u001b[0m | \u001b[0m 0.8771  \u001b[0m | \u001b[0m 0.3622  \u001b[0m | \u001b[0m 0.7655  \u001b[0m | \u001b[0m 7.32    \u001b[0m | \u001b[0m 0.018   \u001b[0m | \u001b[0m 48.49   \u001b[0m | \u001b[0m 6.368   \u001b[0m | \u001b[0m 48.35   \u001b[0m | \u001b[0m 26.25   \u001b[0m |\n",
      "| \u001b[0m 2       \u001b[0m | \u001b[0m 0.8749  \u001b[0m | \u001b[0m 0.5208  \u001b[0m | \u001b[0m 0.5957  \u001b[0m | \u001b[0m 0.2058  \u001b[0m | \u001b[0m 0.0291  \u001b[0m | \u001b[0m 250.1   \u001b[0m | \u001b[0m 7.945   \u001b[0m | \u001b[0m 147.1   \u001b[0m | \u001b[0m 7.135   \u001b[0m |\n",
      "| \u001b[0m 3       \u001b[0m | \u001b[0m 0.8692  \u001b[0m | \u001b[0m 0.313   \u001b[0m | \u001b[0m 0.4673  \u001b[0m | \u001b[0m 4.319   \u001b[0m | \u001b[0m 0.008808\u001b[0m | \u001b[0m 184.3   \u001b[0m | \u001b[0m 5.906   \u001b[0m | \u001b[0m 235.1   \u001b[0m | \u001b[0m 12.26   \u001b[0m |\n",
      "| \u001b[0m 4       \u001b[0m | \u001b[0m 0.8632  \u001b[0m | \u001b[0m 0.4192  \u001b[0m | \u001b[0m 0.6496  \u001b[0m | \u001b[0m 1.997   \u001b[0m | \u001b[0m 0.01548 \u001b[0m | \u001b[0m 178.5   \u001b[0m | \u001b[0m 3.301   \u001b[0m | \u001b[0m 486.8   \u001b[0m | \u001b[0m 6.775   \u001b[0m |\n",
      "| \u001b[95m 5       \u001b[0m | \u001b[95m 0.8778  \u001b[0m | \u001b[95m 0.1455  \u001b[0m | \u001b[95m 0.7642  \u001b[0m | \u001b[95m 9.656   \u001b[0m | \u001b[95m 0.02427 \u001b[0m | \u001b[95m 92.77   \u001b[0m | \u001b[95m 4.735   \u001b[0m | \u001b[95m 548.0   \u001b[0m | \u001b[95m 14.32   \u001b[0m |\n",
      "| \u001b[95m 6       \u001b[0m | \u001b[95m 0.8847  \u001b[0m | \u001b[95m 0.1854  \u001b[0m | \u001b[95m 0.4466  \u001b[0m | \u001b[95m 0.3439  \u001b[0m | \u001b[95m 0.02729 \u001b[0m | \u001b[95m 79.12   \u001b[0m | \u001b[95m 20.55   \u001b[0m | \u001b[95m 250.7   \u001b[0m | \u001b[95m 16.56   \u001b[0m |\n",
      "| \u001b[95m 7       \u001b[0m | \u001b[95m 0.8855  \u001b[0m | \u001b[95m 0.4827  \u001b[0m | \u001b[95m 0.2294  \u001b[0m | \u001b[95m 9.696   \u001b[0m | \u001b[95m 0.02328 \u001b[0m | \u001b[95m 282.0   \u001b[0m | \u001b[95m 27.06   \u001b[0m | \u001b[95m 479.1   \u001b[0m | \u001b[95m 27.81   \u001b[0m |\n",
      "| \u001b[0m 8       \u001b[0m | \u001b[0m 0.877   \u001b[0m | \u001b[0m 0.1619  \u001b[0m | \u001b[0m 0.2372  \u001b[0m | \u001b[0m 0.4523  \u001b[0m | \u001b[0m 0.009827\u001b[0m | \u001b[0m 117.8   \u001b[0m | \u001b[0m 9.598   \u001b[0m | \u001b[0m 663.3   \u001b[0m | \u001b[0m 11.99   \u001b[0m |\n",
      "| \u001b[0m 9       \u001b[0m | \u001b[0m 0.8755  \u001b[0m | \u001b[0m 0.2967  \u001b[0m | \u001b[0m 0.4799  \u001b[0m | \u001b[0m 1.409   \u001b[0m | \u001b[0m 0.02409 \u001b[0m | \u001b[0m 24.22   \u001b[0m | \u001b[0m 29.63   \u001b[0m | \u001b[0m 618.3   \u001b[0m | \u001b[0m 7.564   \u001b[0m |\n",
      "| \u001b[0m 10      \u001b[0m | \u001b[0m 0.8645  \u001b[0m | \u001b[0m 0.1039  \u001b[0m | \u001b[0m 0.6708  \u001b[0m | \u001b[0m 7.069   \u001b[0m | \u001b[0m 0.0219  \u001b[0m | \u001b[0m 231.8   \u001b[0m | \u001b[0m 4.073   \u001b[0m | \u001b[0m 288.1   \u001b[0m | \u001b[0m 5.244   \u001b[0m |\n",
      "| \u001b[0m 11      \u001b[0m | \u001b[0m 0.8837  \u001b[0m | \u001b[0m 0.5486  \u001b[0m | \u001b[0m 0.4284  \u001b[0m | \u001b[0m 8.658   \u001b[0m | \u001b[0m 0.02535 \u001b[0m | \u001b[0m 287.2   \u001b[0m | \u001b[0m 27.81   \u001b[0m | \u001b[0m 477.3   \u001b[0m | \u001b[0m 19.54   \u001b[0m |\n",
      "| \u001b[0m 12      \u001b[0m | \u001b[0m 0.8692  \u001b[0m | \u001b[0m 0.2449  \u001b[0m | \u001b[0m 0.1     \u001b[0m | \u001b[0m 10.0    \u001b[0m | \u001b[0m 0.0001  \u001b[0m | \u001b[0m 280.3   \u001b[0m | \u001b[0m 25.02   \u001b[0m | \u001b[0m 523.5   \u001b[0m | \u001b[0m 30.0    \u001b[0m |\n",
      "| \u001b[0m 13      \u001b[0m | \u001b[0m 0.8839  \u001b[0m | \u001b[0m 0.3023  \u001b[0m | \u001b[0m 0.3077  \u001b[0m | \u001b[0m 4.059   \u001b[0m | \u001b[0m 0.02777 \u001b[0m | \u001b[0m 116.3   \u001b[0m | \u001b[0m 5.348   \u001b[0m | \u001b[0m 663.2   \u001b[0m | \u001b[0m 14.09   \u001b[0m |\n",
      "| \u001b[95m 14      \u001b[0m | \u001b[95m 0.8862  \u001b[0m | \u001b[95m 0.6634  \u001b[0m | \u001b[95m 0.298   \u001b[0m | \u001b[95m 8.708   \u001b[0m | \u001b[95m 0.02857 \u001b[0m | \u001b[95m 282.9   \u001b[0m | \u001b[95m 13.48   \u001b[0m | \u001b[95m 478.3   \u001b[0m | \u001b[95m 24.15   \u001b[0m |\n",
      "| \u001b[0m 15      \u001b[0m | \u001b[0m 0.873   \u001b[0m | \u001b[0m 0.3694  \u001b[0m | \u001b[0m 0.3216  \u001b[0m | \u001b[0m 8.366   \u001b[0m | \u001b[0m 0.01076 \u001b[0m | \u001b[0m 52.28   \u001b[0m | \u001b[0m 4.325   \u001b[0m | \u001b[0m 45.63   \u001b[0m | \u001b[0m 23.35   \u001b[0m |\n",
      "| \u001b[0m 16      \u001b[0m | \u001b[0m 0.8818  \u001b[0m | \u001b[0m 0.4798  \u001b[0m | \u001b[0m 0.3994  \u001b[0m | \u001b[0m 6.02    \u001b[0m | \u001b[0m 0.02485 \u001b[0m | \u001b[0m 118.1   \u001b[0m | \u001b[0m 7.396   \u001b[0m | \u001b[0m 662.6   \u001b[0m | \u001b[0m 14.02   \u001b[0m |\n",
      "| \u001b[0m 17      \u001b[0m | \u001b[0m 0.8326  \u001b[0m | \u001b[0m 0.2248  \u001b[0m | \u001b[0m 0.542   \u001b[0m | \u001b[0m 5.609   \u001b[0m | \u001b[0m 0.003094\u001b[0m | \u001b[0m 111.1   \u001b[0m | \u001b[0m 2.48    \u001b[0m | \u001b[0m 657.0   \u001b[0m | \u001b[0m 25.61   \u001b[0m |\n",
      "| \u001b[0m 18      \u001b[0m | \u001b[0m 0.8815  \u001b[0m | \u001b[0m 0.5006  \u001b[0m | \u001b[0m 0.2247  \u001b[0m | \u001b[0m 8.332   \u001b[0m | \u001b[0m 0.01611 \u001b[0m | \u001b[0m 278.2   \u001b[0m | \u001b[0m 21.27   \u001b[0m | \u001b[0m 480.5   \u001b[0m | \u001b[0m 19.96   \u001b[0m |\n",
      "| \u001b[0m 19      \u001b[0m | \u001b[0m 0.8717  \u001b[0m | \u001b[0m 0.3653  \u001b[0m | \u001b[0m 0.6083  \u001b[0m | \u001b[0m 8.536   \u001b[0m | \u001b[0m 0.004803\u001b[0m | \u001b[0m 293.8   \u001b[0m | \u001b[0m 21.3    \u001b[0m | \u001b[0m 484.3   \u001b[0m | \u001b[0m 25.76   \u001b[0m |\n",
      "| \u001b[0m 20      \u001b[0m | \u001b[0m 0.8596  \u001b[0m | \u001b[0m 0.4094  \u001b[0m | \u001b[0m 0.2249  \u001b[0m | \u001b[0m 7.445   \u001b[0m | \u001b[0m 0.01151 \u001b[0m | \u001b[0m 279.2   \u001b[0m | \u001b[0m 2.484   \u001b[0m | \u001b[0m 475.0   \u001b[0m | \u001b[0m 22.14   \u001b[0m |\n",
      "| \u001b[0m 21      \u001b[0m | \u001b[0m 0.8793  \u001b[0m | \u001b[0m 0.2759  \u001b[0m | \u001b[0m 0.3977  \u001b[0m | \u001b[0m 4.578   \u001b[0m | \u001b[0m 0.009327\u001b[0m | \u001b[0m 284.6   \u001b[0m | \u001b[0m 27.19   \u001b[0m | \u001b[0m 471.6   \u001b[0m | \u001b[0m 25.43   \u001b[0m |\n",
      "| \u001b[0m 22      \u001b[0m | \u001b[0m 0.8792  \u001b[0m | \u001b[0m 0.1426  \u001b[0m | \u001b[0m 0.1022  \u001b[0m | \u001b[0m 2.445   \u001b[0m | \u001b[0m 0.02597 \u001b[0m | \u001b[0m 73.98   \u001b[0m | \u001b[0m 27.09   \u001b[0m | \u001b[0m 250.5   \u001b[0m | \u001b[0m 20.03   \u001b[0m |\n",
      "| \u001b[0m 23      \u001b[0m | \u001b[0m 0.8821  \u001b[0m | \u001b[0m 0.2445  \u001b[0m | \u001b[0m 0.7044  \u001b[0m | \u001b[0m 3.871   \u001b[0m | \u001b[0m 0.02871 \u001b[0m | \u001b[0m 283.9   \u001b[0m | \u001b[0m 17.45   \u001b[0m | \u001b[0m 475.6   \u001b[0m | \u001b[0m 19.1    \u001b[0m |\n",
      "| \u001b[0m 24      \u001b[0m | \u001b[0m 0.8732  \u001b[0m | \u001b[0m 0.2118  \u001b[0m | \u001b[0m 0.1497  \u001b[0m | \u001b[0m 9.338   \u001b[0m | \u001b[0m 0.000422\u001b[0m | \u001b[0m 79.57   \u001b[0m | \u001b[0m 17.26   \u001b[0m | \u001b[0m 252.6   \u001b[0m | \u001b[0m 14.72   \u001b[0m |\n",
      "| \u001b[0m 25      \u001b[0m | \u001b[0m 0.872   \u001b[0m | \u001b[0m 0.2265  \u001b[0m | \u001b[0m 0.7684  \u001b[0m | \u001b[0m 2.964   \u001b[0m | \u001b[0m 0.02009 \u001b[0m | \u001b[0m 114.8   \u001b[0m | \u001b[0m 5.268   \u001b[0m | \u001b[0m 676.1   \u001b[0m | \u001b[0m 7.861   \u001b[0m |\n",
      "=========================================================================================================================\n"
     ]
    }
   ],
   "source": [
    "def bayes_parameter_opt_lgb(X, y, init_round=10, opt_round=20, n_folds=3, random_seed=42, output_process=False):\n",
    "    # prepare data\n",
    "    train_data = lgb.Dataset(X, label=y, free_raw_data=False)\n",
    "    # parameters\n",
    "    def lgb_eval( num_leaves, max_depth, learning_rate, lambda_l1, feature_fraction, bagging_fraction,  max_bin, min_data_in_leaf):\n",
    "      \n",
    "        params = {'application':'binary', 'metric':'auc', 'verbose' :-1, 'is_unbalance': True}\n",
    "        params['learning_rate'] = max(min(learning_rate, 1), 0)\n",
    "        params['max_depth'] = int(round(max_depth))\n",
    "        params[\"num_leaves\"] = min(int(round(num_leaves)),2**(params['max_depth']))\n",
    "        params['feature_fraction'] = max(min(feature_fraction, 1), 0)\n",
    "        params['bagging_fraction'] = max(min(bagging_fraction, 1), 0)\n",
    "        params['max_bin'] = int(round(max_bin))\n",
    "        params['min_data_in_leaf'] = int(round(min_data_in_leaf))\n",
    "        params['lambda_l1'] = max(lambda_l1, 0)\n",
    "        \n",
    "        cv_result = lgb.cv(params, train_data, nfold=n_folds, seed=random_seed, stratified=True, verbose_eval =False)\n",
    "        return max(cv_result['auc-mean'])\n",
    "     \n",
    "    lgbBO = BayesianOptimization(lgb_eval, {'learning_rate': (0.0001, 0.03),\n",
    "                                            'num_leaves': (2, 30),\n",
    "                                            'feature_fraction': (0.1, 0.8),\n",
    "                                            'bagging_fraction': (0.1, 0.8),\n",
    "                                            'max_depth': (2, 30),\n",
    "                                            'max_bin':(2,300),\n",
    "                                            'lambda_l1': (0, 10),\n",
    "                                            'min_data_in_leaf': (2, 800)}, random_state=42)\n",
    "\n",
    "    \n",
    "    #n_iter: How many steps of bayesian optimization you want to perform. The more steps the more likely to find a good maximum you are.\n",
    "    #init_points: How many steps of random exploration you want to perform. Random exploration can help by diversifying the exploration space.\n",
    "    \n",
    "    lgbBO.maximize(init_points=init_round, n_iter=opt_round)\n",
    "        \n",
    "    # return best parameters\n",
    "    return lgbBO.max\n",
    "\n",
    "opt_params = bayes_parameter_opt_lgb(treino_xf, treino_y, init_round=10, opt_round=15, n_folds=5, random_seed=42)"
   ]
  },
  {
   "cell_type": "markdown",
   "metadata": {},
   "source": [
    "Na 14ª rodada o modelo encontrou a melhor AUC (88,62%) com os parâmetros declarados ao lado. Esses parâmetros serão ajustados para serem utilizados no treinamento do modelo."
   ]
  },
  {
   "cell_type": "code",
   "execution_count": 42,
   "metadata": {},
   "outputs": [],
   "source": [
    "params = dict(opt_params['params'])"
   ]
  },
  {
   "cell_type": "code",
   "execution_count": 43,
   "metadata": {},
   "outputs": [
    {
     "data": {
      "text/plain": [
       "{'bagging_fraction': 0.6634005562677355,\n",
       " 'feature_fraction': 0.2980164923022849,\n",
       " 'lambda_l1': 8.70807508685366,\n",
       " 'learning_rate': 0.02857449764033045,\n",
       " 'max_bin': 283,\n",
       " 'max_depth': 13,\n",
       " 'min_data_in_leaf': 478,\n",
       " 'num_leaves': 24,\n",
       " 'objective': 'binary',\n",
       " 'metric': 'auc',\n",
       " 'is_unbalance': True,\n",
       " 'verbose': -1}"
      ]
     },
     "execution_count": 43,
     "metadata": {},
     "output_type": "execute_result"
    }
   ],
   "source": [
    "params[\"num_leaves\"] = int(round(opt_params['params'][\"num_leaves\"]))\n",
    "params['max_depth'] = int(round(opt_params['params']['max_depth']))\n",
    "params['min_data_in_leaf'] = int(round(opt_params['params']['min_data_in_leaf']))\n",
    "params['max_bin'] = int(round(opt_params['params']['max_bin']))\n",
    "params['objective']='binary'\n",
    "params['metric']='auc'\n",
    "params['is_unbalance']=True\n",
    "params['verbose']=-1\n",
    "params"
   ]
  },
  {
   "cell_type": "code",
   "execution_count": 44,
   "metadata": {},
   "outputs": [],
   "source": [
    "vFuncPred = np.vectorize(lambda x: 1 if x > 0.5 else 0)"
   ]
  },
  {
   "cell_type": "code",
   "execution_count": 45,
   "metadata": {},
   "outputs": [],
   "source": [
    "trn_data = lgb.Dataset(treino_xf, label=treino_y, free_raw_data=False)\n",
    "val_data = lgb.Dataset(validacao_xf, label=validacao_y, free_raw_data=False)"
   ]
  },
  {
   "cell_type": "code",
   "execution_count": 46,
   "metadata": {},
   "outputs": [
    {
     "name": "stdout",
     "output_type": "stream",
     "text": [
      "Score treino: 0.93718 \n",
      "Score validação: 0.84703 \n",
      "Score teste: 0.82027 \n",
      "F1 treino: 0.38169 \n",
      "F1 validação: 0.41737 \n",
      "F1 teste: 0.50099 \n",
      "cm treino: \n",
      "[[21754  4057]\n",
      " [  184  1309]]\n",
      "cm validação: \n",
      "[[21967  3531]\n",
      " [ 1031  1634]]\n",
      "cm teste: \n",
      "[[21384  3182]\n",
      " [ 2364  2784]]\n"
     ]
    }
   ],
   "source": [
    "modelo = lgb.train(params, trn_data, valid_sets = [trn_data, val_data], verbose_eval=False, early_stopping_rounds = 20)\n",
    "probaT = modelo.predict(treino_xf)\n",
    "probaV = modelo.predict(validacao_xf)\n",
    "proba = modelo.predict(teste_xf)\n",
    "\n",
    "preditoT = vFuncPred(probaT)\n",
    "preditoV = vFuncPred(probaV)\n",
    "predito = vFuncPred(proba)\n",
    "\n",
    "print(\"Score treino: {:<8.5f}\".format(roc_auc_score(treino_y, probaT)))\n",
    "print(\"Score validação: {:<8.5f}\".format(roc_auc_score(validacao_y, probaV)))\n",
    "print(\"Score teste: {:<8.5f}\".format(roc_auc_score(teste_y, proba)))\n",
    "\n",
    "print(\"F1 treino: {:<8.5f}\".format(f1_score(treino_y, preditoT)))\n",
    "print(\"F1 validação: {:<8.5f}\".format(f1_score(validacao_y, preditoV)))\n",
    "print(\"F1 teste: {:<8.5f}\".format(f1_score(teste_y, predito)))\n",
    "\n",
    "print(\"cm treino: \\n{}\".format(confusion_matrix(treino_y, preditoT)))\n",
    "print(\"cm validação: \\n{}\".format(confusion_matrix(validacao_y, preditoV)))\n",
    "print(\"cm teste: \\n{}\".format(confusion_matrix(teste_y, predito)))\n"
   ]
  },
  {
   "cell_type": "code",
   "execution_count": 47,
   "metadata": {},
   "outputs": [
    {
     "name": "stdout",
     "output_type": "stream",
     "text": [
      "              precision    recall  f1-score   support\n",
      "\n",
      "           0       0.90      0.87      0.89     24566\n",
      "           1       0.47      0.54      0.50      5148\n",
      "\n",
      "    accuracy                           0.81     29714\n",
      "   macro avg       0.68      0.71      0.69     29714\n",
      "weighted avg       0.83      0.81      0.82     29714\n",
      "\n"
     ]
    }
   ],
   "source": [
    "print(classification_report(teste_y, predito))"
   ]
  },
  {
   "cell_type": "markdown",
   "metadata": {},
   "source": [
    "O modelo apresentou um pouco de overfting quando comparamos teste e validação, porém entre validação e teste os resultados ficaram bem parecidos."
   ]
  },
  {
   "cell_type": "markdown",
   "metadata": {},
   "source": [
    "#### Importâncias das variáveis"
   ]
  },
  {
   "cell_type": "code",
   "execution_count": 48,
   "metadata": {},
   "outputs": [
    {
     "data": {
      "text/plain": [
       "<matplotlib.axes._subplots.AxesSubplot at 0x20a3f478148>"
      ]
     },
     "execution_count": 48,
     "metadata": {},
     "output_type": "execute_result"
    },
    {
     "data": {
      "image/png": "[encoded data removed]",
      "text/plain": [
       "<Figure size 720x576 with 1 Axes>"
      ]
     },
     "metadata": {
      "needs_background": "light"
     },
     "output_type": "display_data"
    }
   ],
   "source": [
    "lgb.plot_importance(modelo, figsize=(10,8), importance_type='gain', max_num_features=20)"
   ]
  },
  {
   "cell_type": "markdown",
   "metadata": {},
   "source": [
    "O LightGBM indica que as variáveis mais importantes são código do município, taxa de participação e algumas outras dos questionários. \n",
    "Vou agora utilizar a biblioteca Shap para interpretar melhor como os valores de cada variáveis interferem no modelo."
   ]
  },
  {
   "cell_type": "code",
   "execution_count": 49,
   "metadata": {},
   "outputs": [
    {
     "name": "stderr",
     "output_type": "stream",
     "text": [
      "C:\\Users\\misan\\anaconda3\\lib\\site-packages\\shap\\explainers\\tree.py:194: UserWarning: LightGBM binary classifier with TreeExplainer shap values output has changed to a list of ndarray\n",
      "  warnings.warn('LightGBM binary classifier with TreeExplainer shap values output has changed to a list of ndarray')\n"
     ]
    },
    {
     "data": {
      "image/png": "[encoded data removed]",
      "text/plain": [
       "<Figure size 576x684 with 2 Axes>"
      ]
     },
     "metadata": {
      "needs_background": "light"
     },
     "output_type": "display_data"
    }
   ],
   "source": [
    "explainer = shap.TreeExplainer(modelo)\n",
    "shap_values = explainer.shap_values(treino_xf)\n",
    "ordem_vars = np.argsort(np.sum(np.abs(shap_values[1]), axis=0))[::-1]\n",
    "shap.summary_plot(shap_values[1], treino_xf)"
   ]
  },
  {
   "cell_type": "markdown",
   "metadata": {},
   "source": [
    "Quanto mais alongada a linha, maior a relevância da variável para o modelo, mais ela discrimina os resultados. E as cores indicam o valor contido em cada variável e como ele contribui para o modelo (a esquerda indica que seria a target 0, e a direita, target 1).\n",
    "\n",
    "Portanto podemos interpretar que quanto menor o código do municipio e a taxa de participação (mais azuis), pior é o aprendizado.\n",
    "\n",
    "Vamos ainda estudar um pouco mais estes resultados, porém vamos tentar melhorar os resultados do modelo realizando o UnderSampling e OverSampling."
   ]
  },
  {
   "cell_type": "markdown",
   "metadata": {},
   "source": [
    "# UnderSampling"
   ]
  },
  {
   "cell_type": "code",
   "execution_count": 50,
   "metadata": {},
   "outputs": [
    {
     "name": "stdout",
     "output_type": "stream",
     "text": [
      "Counter({0: 1493, 1: 1493})\n",
      "Counter({0: 25811, 1: 1493})\n"
     ]
    }
   ],
   "source": [
    "treino_x_us, treino_y_us = RandomUnderSampler(random_state=42).fit_resample(treino_xf, treino_y)\n",
    "\n",
    "print(Counter(treino_y_us))\n",
    "print(Counter(treino_y))"
   ]
  },
  {
   "cell_type": "code",
   "execution_count": 51,
   "metadata": {},
   "outputs": [
    {
     "name": "stdout",
     "output_type": "stream",
     "text": [
      "|   iter    |  target   | baggin... | featur... | lambda_l1 | learni... |  max_bin  | max_depth | min_da... | num_le... |\n",
      "-------------------------------------------------------------------------------------------------------------------------\n",
      "| \u001b[0m 1       \u001b[0m | \u001b[0m 0.8581  \u001b[0m | \u001b[0m 0.3622  \u001b[0m | \u001b[0m 0.7655  \u001b[0m | \u001b[0m 7.32    \u001b[0m | \u001b[0m 0.018   \u001b[0m | \u001b[0m 48.49   \u001b[0m | \u001b[0m 6.368   \u001b[0m | \u001b[0m 48.35   \u001b[0m | \u001b[0m 26.25   \u001b[0m |\n",
      "| \u001b[95m 2       \u001b[0m | \u001b[95m 0.866   \u001b[0m | \u001b[95m 0.5208  \u001b[0m | \u001b[95m 0.5957  \u001b[0m | \u001b[95m 0.2058  \u001b[0m | \u001b[95m 0.0291  \u001b[0m | \u001b[95m 250.1   \u001b[0m | \u001b[95m 7.945   \u001b[0m | \u001b[95m 147.1   \u001b[0m | \u001b[95m 7.135   \u001b[0m |\n",
      "| \u001b[0m 3       \u001b[0m | \u001b[0m 0.8477  \u001b[0m | \u001b[0m 0.313   \u001b[0m | \u001b[0m 0.4673  \u001b[0m | \u001b[0m 4.319   \u001b[0m | \u001b[0m 0.008808\u001b[0m | \u001b[0m 184.3   \u001b[0m | \u001b[0m 5.906   \u001b[0m | \u001b[0m 235.1   \u001b[0m | \u001b[0m 12.26   \u001b[0m |\n",
      "| \u001b[0m 4       \u001b[0m | \u001b[0m 0.8337  \u001b[0m | \u001b[0m 0.4192  \u001b[0m | \u001b[0m 0.6496  \u001b[0m | \u001b[0m 1.997   \u001b[0m | \u001b[0m 0.01548 \u001b[0m | \u001b[0m 178.5   \u001b[0m | \u001b[0m 3.301   \u001b[0m | \u001b[0m 486.8   \u001b[0m | \u001b[0m 6.775   \u001b[0m |\n",
      "| \u001b[0m 5       \u001b[0m | \u001b[0m 0.8413  \u001b[0m | \u001b[0m 0.1455  \u001b[0m | \u001b[0m 0.7642  \u001b[0m | \u001b[0m 9.656   \u001b[0m | \u001b[0m 0.02427 \u001b[0m | \u001b[0m 92.77   \u001b[0m | \u001b[0m 4.735   \u001b[0m | \u001b[0m 548.0   \u001b[0m | \u001b[0m 14.32   \u001b[0m |\n",
      "| \u001b[0m 6       \u001b[0m | \u001b[0m 0.8658  \u001b[0m | \u001b[0m 0.1854  \u001b[0m | \u001b[0m 0.4466  \u001b[0m | \u001b[0m 0.3439  \u001b[0m | \u001b[0m 0.02729 \u001b[0m | \u001b[0m 79.12   \u001b[0m | \u001b[0m 20.55   \u001b[0m | \u001b[0m 250.7   \u001b[0m | \u001b[0m 16.56   \u001b[0m |\n",
      "| \u001b[0m 7       \u001b[0m | \u001b[0m 0.855   \u001b[0m | \u001b[0m 0.4827  \u001b[0m | \u001b[0m 0.2294  \u001b[0m | \u001b[0m 9.696   \u001b[0m | \u001b[0m 0.02328 \u001b[0m | \u001b[0m 282.0   \u001b[0m | \u001b[0m 27.06   \u001b[0m | \u001b[0m 479.1   \u001b[0m | \u001b[0m 27.81   \u001b[0m |\n",
      "| \u001b[0m 8       \u001b[0m | \u001b[0m 0.8363  \u001b[0m | \u001b[0m 0.1619  \u001b[0m | \u001b[0m 0.2372  \u001b[0m | \u001b[0m 0.4523  \u001b[0m | \u001b[0m 0.009827\u001b[0m | \u001b[0m 117.8   \u001b[0m | \u001b[0m 9.598   \u001b[0m | \u001b[0m 663.3   \u001b[0m | \u001b[0m 11.99   \u001b[0m |\n",
      "| \u001b[0m 9       \u001b[0m | \u001b[0m 0.8406  \u001b[0m | \u001b[0m 0.2967  \u001b[0m | \u001b[0m 0.4799  \u001b[0m | \u001b[0m 1.409   \u001b[0m | \u001b[0m 0.02409 \u001b[0m | \u001b[0m 24.22   \u001b[0m | \u001b[0m 29.63   \u001b[0m | \u001b[0m 618.3   \u001b[0m | \u001b[0m 7.564   \u001b[0m |\n",
      "| \u001b[0m 10      \u001b[0m | \u001b[0m 0.8489  \u001b[0m | \u001b[0m 0.1039  \u001b[0m | \u001b[0m 0.6708  \u001b[0m | \u001b[0m 7.069   \u001b[0m | \u001b[0m 0.0219  \u001b[0m | \u001b[0m 231.8   \u001b[0m | \u001b[0m 4.073   \u001b[0m | \u001b[0m 288.1   \u001b[0m | \u001b[0m 5.244   \u001b[0m |\n",
      "| \u001b[95m 11      \u001b[0m | \u001b[95m 0.874   \u001b[0m | \u001b[95m 0.7343  \u001b[0m | \u001b[95m 0.2231  \u001b[0m | \u001b[95m 3.943   \u001b[0m | \u001b[95m 0.02139 \u001b[0m | \u001b[95m 245.0   \u001b[0m | \u001b[95m 15.38   \u001b[0m | \u001b[95m 146.5   \u001b[0m | \u001b[95m 9.585   \u001b[0m |\n",
      "| \u001b[95m 12      \u001b[0m | \u001b[95m 0.875   \u001b[0m | \u001b[95m 0.7596  \u001b[0m | \u001b[95m 0.2095  \u001b[0m | \u001b[95m 6.704   \u001b[0m | \u001b[95m 0.02295 \u001b[0m | \u001b[95m 233.2   \u001b[0m | \u001b[95m 23.3    \u001b[0m | \u001b[95m 135.8   \u001b[0m | \u001b[95m 14.51   \u001b[0m |\n",
      "| \u001b[0m 13      \u001b[0m | \u001b[0m 0.8247  \u001b[0m | \u001b[0m 0.4725  \u001b[0m | \u001b[0m 0.6291  \u001b[0m | \u001b[0m 3.236   \u001b[0m | \u001b[0m 0.009221\u001b[0m | \u001b[0m 246.3   \u001b[0m | \u001b[0m 15.82   \u001b[0m | \u001b[0m 145.9   \u001b[0m | \u001b[0m 4.135   \u001b[0m |\n",
      "| \u001b[0m 14      \u001b[0m | \u001b[0m 0.84    \u001b[0m | \u001b[0m 0.4837  \u001b[0m | \u001b[0m 0.7386  \u001b[0m | \u001b[0m 0.8454  \u001b[0m | \u001b[0m 0.01353 \u001b[0m | \u001b[0m 61.21   \u001b[0m | \u001b[0m 18.54   \u001b[0m | \u001b[0m 312.1   \u001b[0m | \u001b[0m 19.44   \u001b[0m |\n",
      "| \u001b[0m 15      \u001b[0m | \u001b[0m 0.8104  \u001b[0m | \u001b[0m 0.2831  \u001b[0m | \u001b[0m 0.674   \u001b[0m | \u001b[0m 9.794   \u001b[0m | \u001b[0m 0.004622\u001b[0m | \u001b[0m 253.3   \u001b[0m | \u001b[0m 22.93   \u001b[0m | \u001b[0m 522.0   \u001b[0m | \u001b[0m 27.39   \u001b[0m |\n",
      "| \u001b[0m 16      \u001b[0m | \u001b[0m 0.8389  \u001b[0m | \u001b[0m 0.5458  \u001b[0m | \u001b[0m 0.4128  \u001b[0m | \u001b[0m 6.675   \u001b[0m | \u001b[0m 0.02114 \u001b[0m | \u001b[0m 256.6   \u001b[0m | \u001b[0m 19.93   \u001b[0m | \u001b[0m 592.2   \u001b[0m | \u001b[0m 15.35   \u001b[0m |\n",
      "| \u001b[0m 17      \u001b[0m | \u001b[0m 0.8309  \u001b[0m | \u001b[0m 0.5705  \u001b[0m | \u001b[0m 0.6429  \u001b[0m | \u001b[0m 1.625   \u001b[0m | \u001b[0m 0.003961\u001b[0m | \u001b[0m 104.8   \u001b[0m | \u001b[0m 2.798   \u001b[0m | \u001b[0m 97.05   \u001b[0m | \u001b[0m 28.61   \u001b[0m |\n",
      "| \u001b[0m 18      \u001b[0m | \u001b[0m 0.8403  \u001b[0m | \u001b[0m 0.6305  \u001b[0m | \u001b[0m 0.7777  \u001b[0m | \u001b[0m 9.7     \u001b[0m | \u001b[0m 0.0222  \u001b[0m | \u001b[0m 241.6   \u001b[0m | \u001b[0m 22.46   \u001b[0m | \u001b[0m 542.1   \u001b[0m | \u001b[0m 27.34   \u001b[0m |\n",
      "| \u001b[0m 19      \u001b[0m | \u001b[0m 0.8419  \u001b[0m | \u001b[0m 0.7031  \u001b[0m | \u001b[0m 0.5719  \u001b[0m | \u001b[0m 0.7548  \u001b[0m | \u001b[0m 0.0156  \u001b[0m | \u001b[0m 82.57   \u001b[0m | \u001b[0m 20.92   \u001b[0m | \u001b[0m 388.7   \u001b[0m | \u001b[0m 19.37   \u001b[0m |\n",
      "| \u001b[0m 20      \u001b[0m | \u001b[0m 0.8499  \u001b[0m | \u001b[0m 0.1946  \u001b[0m | \u001b[0m 0.1197  \u001b[0m | \u001b[0m 4.813   \u001b[0m | \u001b[0m 0.02176 \u001b[0m | \u001b[0m 271.1   \u001b[0m | \u001b[0m 6.203   \u001b[0m | \u001b[0m 662.3   \u001b[0m | \u001b[0m 20.49   \u001b[0m |\n",
      "| \u001b[0m 21      \u001b[0m | \u001b[0m 0.8097  \u001b[0m | \u001b[0m 0.3918  \u001b[0m | \u001b[0m 0.4859  \u001b[0m | \u001b[0m 9.61    \u001b[0m | \u001b[0m 0.0209  \u001b[0m | \u001b[0m 274.5   \u001b[0m | \u001b[0m 2.022   \u001b[0m | \u001b[0m 782.9   \u001b[0m | \u001b[0m 10.4    \u001b[0m |\n",
      "| \u001b[0m 22      \u001b[0m | \u001b[0m 0.8715  \u001b[0m | \u001b[0m 0.57    \u001b[0m | \u001b[0m 0.1702  \u001b[0m | \u001b[0m 3.938   \u001b[0m | \u001b[0m 0.01992 \u001b[0m | \u001b[0m 233.8   \u001b[0m | \u001b[0m 18.07   \u001b[0m | \u001b[0m 197.6   \u001b[0m | \u001b[0m 28.51   \u001b[0m |\n",
      "| \u001b[0m 23      \u001b[0m | \u001b[0m 0.8615  \u001b[0m | \u001b[0m 0.7713  \u001b[0m | \u001b[0m 0.1358  \u001b[0m | \u001b[0m 6.285   \u001b[0m | \u001b[0m 0.0255  \u001b[0m | \u001b[0m 20.89   \u001b[0m | \u001b[0m 14.13   \u001b[0m | \u001b[0m 2.937   \u001b[0m | \u001b[0m 3.451   \u001b[0m |\n",
      "| \u001b[0m 24      \u001b[0m | \u001b[0m 0.8521  \u001b[0m | \u001b[0m 0.6504  \u001b[0m | \u001b[0m 0.1961  \u001b[0m | \u001b[0m 9.352   \u001b[0m | \u001b[0m 0.009707\u001b[0m | \u001b[0m 180.1   \u001b[0m | \u001b[0m 28.17   \u001b[0m | \u001b[0m 182.0   \u001b[0m | \u001b[0m 2.644   \u001b[0m |\n",
      "| \u001b[0m 25      \u001b[0m | \u001b[0m 0.8723  \u001b[0m | \u001b[0m 0.5843  \u001b[0m | \u001b[0m 0.2434  \u001b[0m | \u001b[0m 7.271   \u001b[0m | \u001b[0m 0.02597 \u001b[0m | \u001b[0m 22.93   \u001b[0m | \u001b[0m 4.693   \u001b[0m | \u001b[0m 152.1   \u001b[0m | \u001b[0m 18.8    \u001b[0m |\n",
      "=========================================================================================================================\n"
     ]
    }
   ],
   "source": [
    "def bayes_parameter_opt_lgb_bal(X, y, init_round=10, opt_round=20, n_folds=3, random_seed=42, output_process=False):\n",
    "    # prepare data\n",
    "    train_data = lgb.Dataset(X, label=y, free_raw_data=False)\n",
    "    # parameters\n",
    "    def lgb_eval( num_leaves, max_depth, learning_rate, lambda_l1, feature_fraction, bagging_fraction,  max_bin, min_data_in_leaf):\n",
    "#       , 'is_unbalance': True\n",
    "        params = {'application':'binary', 'metric':'auc', 'verbose' :-1}\n",
    "        params['learning_rate'] = max(min(learning_rate, 1), 0)\n",
    "        params['max_depth'] = int(round(max_depth))\n",
    "        params[\"num_leaves\"] = min(int(round(num_leaves)),2**(params['max_depth']))\n",
    "        params['feature_fraction'] = max(min(feature_fraction, 1), 0)\n",
    "        params['bagging_fraction'] = max(min(bagging_fraction, 1), 0)\n",
    "        params['max_bin'] = int(round(max_bin))\n",
    "        params['min_data_in_leaf'] = int(round(min_data_in_leaf))\n",
    "        params['lambda_l1'] = max(lambda_l1, 0)\n",
    "        \n",
    "        cv_result = lgb.cv(params, train_data, nfold=n_folds, seed=random_seed, stratified=True, verbose_eval =False)\n",
    "        return max(cv_result['auc-mean'])\n",
    "     \n",
    "    lgbBO = BayesianOptimization(lgb_eval, {'learning_rate': (0.0001, 0.03),\n",
    "                                            'num_leaves': (2, 30),\n",
    "                                            'feature_fraction': (0.1, 0.8),\n",
    "                                            'bagging_fraction': (0.1, 0.8),\n",
    "                                            'max_depth': (2, 30),\n",
    "                                            'max_bin':(2,300),\n",
    "                                            'lambda_l1': (0, 10),\n",
    "                                            'min_data_in_leaf': (2, 800)}, random_state=42)\n",
    "\n",
    "    \n",
    "    #n_iter: How many steps of bayesian optimization you want to perform. The more steps the more likely to find a good maximum you are.\n",
    "    #init_points: How many steps of random exploration you want to perform. Random exploration can help by diversifying the exploration space.\n",
    "    \n",
    "    lgbBO.maximize(init_points=init_round, n_iter=opt_round)\n",
    "        \n",
    "    # return best parameters\n",
    "    return lgbBO.max\n",
    "\n",
    "opt_params_us = bayes_parameter_opt_lgb_bal(treino_x_us, treino_y_us, init_round=10, opt_round=15, n_folds=5, random_seed=42)"
   ]
  },
  {
   "cell_type": "code",
   "execution_count": 52,
   "metadata": {},
   "outputs": [],
   "source": [
    "params_us = dict(opt_params_us['params'])"
   ]
  },
  {
   "cell_type": "code",
   "execution_count": 53,
   "metadata": {},
   "outputs": [
    {
     "data": {
      "text/plain": [
       "{'bagging_fraction': 0.7596044103165079,\n",
       " 'feature_fraction': 0.20949879744101962,\n",
       " 'lambda_l1': 6.703979257633068,\n",
       " 'learning_rate': 0.022945331518368733,\n",
       " 'max_bin': 233,\n",
       " 'max_depth': 23,\n",
       " 'min_data_in_leaf': 136,\n",
       " 'num_leaves': 15,\n",
       " 'objective': 'binary',\n",
       " 'metric': 'auc',\n",
       " 'verbose': -1}"
      ]
     },
     "execution_count": 53,
     "metadata": {},
     "output_type": "execute_result"
    }
   ],
   "source": [
    "params_us[\"num_leaves\"] = int(round(opt_params_us['params'][\"num_leaves\"]))\n",
    "params_us['max_depth'] = int(round(opt_params_us['params']['max_depth']))\n",
    "params_us['min_data_in_leaf'] = int(round(opt_params_us['params']['min_data_in_leaf']))\n",
    "params_us['max_bin'] = int(round(opt_params_us['params']['max_bin']))\n",
    "params_us['objective']='binary'\n",
    "params_us['metric']='auc'\n",
    "params_us['verbose']=-1\n",
    "params_us"
   ]
  },
  {
   "cell_type": "code",
   "execution_count": 54,
   "metadata": {},
   "outputs": [],
   "source": [
    "trn_data = lgb.Dataset(treino_x_us, label=treino_y_us)"
   ]
  },
  {
   "cell_type": "code",
   "execution_count": 55,
   "metadata": {},
   "outputs": [
    {
     "name": "stdout",
     "output_type": "stream",
     "text": [
      "Score treino: 0.89258 \n",
      "Score validação: 0.83267 \n",
      "Score teste: 0.80590 \n",
      "F1 treino: 0.30390 \n",
      "F1 validação: 0.39316 \n",
      "F1 teste: 0.48986 \n",
      "cm treino: \n",
      "[[20456  5355]\n",
      " [  266  1227]]\n",
      "cm validação: \n",
      "[[20970  4528]\n",
      " [  905  1760]]\n",
      "cm teste: \n",
      "[[20595  3971]\n",
      " [ 2190  2958]]\n"
     ]
    }
   ],
   "source": [
    "modelo_us = lgb.train(params_us, trn_data, valid_sets = [trn_data, val_data], verbose_eval=False, early_stopping_rounds = 20)\n",
    "probaT_us = modelo_us.predict(treino_xf)\n",
    "probaV_us = modelo_us.predict(validacao_xf)\n",
    "proba_us = modelo_us.predict(teste_xf)\n",
    "\n",
    "preditoT_us = vFuncPred(probaT_us)\n",
    "preditoV_us = vFuncPred(probaV_us)\n",
    "predito_us = vFuncPred(proba_us)\n",
    "\n",
    "print(\"Score treino: {:<8.5f}\".format(roc_auc_score(treino_y, probaT_us)))\n",
    "print(\"Score validação: {:<8.5f}\".format(roc_auc_score(validacao_y, probaV_us)))\n",
    "print(\"Score teste: {:<8.5f}\".format(roc_auc_score(teste_y, proba_us)))\n",
    "\n",
    "print(\"F1 treino: {:<8.5f}\".format(f1_score(treino_y, preditoT_us)))\n",
    "print(\"F1 validação: {:<8.5f}\".format(f1_score(validacao_y, preditoV_us)))\n",
    "print(\"F1 teste: {:<8.5f}\".format(f1_score(teste_y, predito_us)))\n",
    "\n",
    "print(\"cm treino: \\n{}\".format(confusion_matrix(treino_y, preditoT_us)))\n",
    "print(\"cm validação: \\n{}\".format(confusion_matrix(validacao_y, preditoV_us)))\n",
    "print(\"cm teste: \\n{}\".format(confusion_matrix(teste_y, predito_us)))"
   ]
  },
  {
   "cell_type": "code",
   "execution_count": 56,
   "metadata": {},
   "outputs": [
    {
     "name": "stdout",
     "output_type": "stream",
     "text": [
      "              precision    recall  f1-score   support\n",
      "\n",
      "           0       0.90      0.84      0.87     24566\n",
      "           1       0.43      0.57      0.49      5148\n",
      "\n",
      "    accuracy                           0.79     29714\n",
      "   macro avg       0.67      0.71      0.68     29714\n",
      "weighted avg       0.82      0.79      0.80     29714\n",
      "\n"
     ]
    }
   ],
   "source": [
    "print(classification_report(teste_y, predito_us))"
   ]
  },
  {
   "cell_type": "markdown",
   "metadata": {},
   "source": [
    "# OverSampling"
   ]
  },
  {
   "cell_type": "code",
   "execution_count": 57,
   "metadata": {},
   "outputs": [
    {
     "name": "stdout",
     "output_type": "stream",
     "text": [
      "Counter({0: 25811, 1: 25811})\n",
      "Counter({0: 25811, 1: 1493})\n"
     ]
    }
   ],
   "source": [
    "# tratando desbalanceamento. 1 para oversampling, gerando novos dados para a variável target =1\n",
    "treino_x_os, treino_y_os = RandomOverSampler(random_state=42).fit_resample(treino_xf, treino_y)\n",
    "\n",
    "print(Counter(treino_y_os))\n",
    "print(Counter(treino_y))"
   ]
  },
  {
   "cell_type": "code",
   "execution_count": 58,
   "metadata": {},
   "outputs": [
    {
     "name": "stdout",
     "output_type": "stream",
     "text": [
      "|   iter    |  target   | baggin... | featur... | lambda_l1 | learni... |  max_bin  | max_depth | min_da... | num_le... |\n",
      "-------------------------------------------------------------------------------------------------------------------------\n",
      "| \u001b[0m 1       \u001b[0m | \u001b[0m 0.9173  \u001b[0m | \u001b[0m 0.3622  \u001b[0m | \u001b[0m 0.7655  \u001b[0m | \u001b[0m 7.32    \u001b[0m | \u001b[0m 0.018   \u001b[0m | \u001b[0m 48.49   \u001b[0m | \u001b[0m 6.368   \u001b[0m | \u001b[0m 48.35   \u001b[0m | \u001b[0m 26.25   \u001b[0m |\n",
      "| \u001b[0m 2       \u001b[0m | \u001b[0m 0.8868  \u001b[0m | \u001b[0m 0.5208  \u001b[0m | \u001b[0m 0.5957  \u001b[0m | \u001b[0m 0.2058  \u001b[0m | \u001b[0m 0.0291  \u001b[0m | \u001b[0m 250.1   \u001b[0m | \u001b[0m 7.945   \u001b[0m | \u001b[0m 147.1   \u001b[0m | \u001b[0m 7.135   \u001b[0m |\n",
      "| \u001b[0m 3       \u001b[0m | \u001b[0m 0.8805  \u001b[0m | \u001b[0m 0.313   \u001b[0m | \u001b[0m 0.4673  \u001b[0m | \u001b[0m 4.319   \u001b[0m | \u001b[0m 0.008808\u001b[0m | \u001b[0m 184.3   \u001b[0m | \u001b[0m 5.906   \u001b[0m | \u001b[0m 235.1   \u001b[0m | \u001b[0m 12.26   \u001b[0m |\n",
      "| \u001b[0m 4       \u001b[0m | \u001b[0m 0.8649  \u001b[0m | \u001b[0m 0.4192  \u001b[0m | \u001b[0m 0.6496  \u001b[0m | \u001b[0m 1.997   \u001b[0m | \u001b[0m 0.01548 \u001b[0m | \u001b[0m 178.5   \u001b[0m | \u001b[0m 3.301   \u001b[0m | \u001b[0m 486.8   \u001b[0m | \u001b[0m 6.775   \u001b[0m |\n",
      "| \u001b[0m 5       \u001b[0m | \u001b[0m 0.9023  \u001b[0m | \u001b[0m 0.1455  \u001b[0m | \u001b[0m 0.7642  \u001b[0m | \u001b[0m 9.656   \u001b[0m | \u001b[0m 0.02427 \u001b[0m | \u001b[0m 92.77   \u001b[0m | \u001b[0m 4.735   \u001b[0m | \u001b[0m 548.0   \u001b[0m | \u001b[0m 14.32   \u001b[0m |\n",
      "| \u001b[0m 6       \u001b[0m | \u001b[0m 0.9166  \u001b[0m | \u001b[0m 0.1854  \u001b[0m | \u001b[0m 0.4466  \u001b[0m | \u001b[0m 0.3439  \u001b[0m | \u001b[0m 0.02729 \u001b[0m | \u001b[0m 79.12   \u001b[0m | \u001b[0m 20.55   \u001b[0m | \u001b[0m 250.7   \u001b[0m | \u001b[0m 16.56   \u001b[0m |\n",
      "| \u001b[95m 7       \u001b[0m | \u001b[95m 0.9262  \u001b[0m | \u001b[95m 0.4827  \u001b[0m | \u001b[95m 0.2294  \u001b[0m | \u001b[95m 9.696   \u001b[0m | \u001b[95m 0.02328 \u001b[0m | \u001b[95m 282.0   \u001b[0m | \u001b[95m 27.06   \u001b[0m | \u001b[95m 479.1   \u001b[0m | \u001b[95m 27.81   \u001b[0m |\n",
      "| \u001b[0m 8       \u001b[0m | \u001b[0m 0.8929  \u001b[0m | \u001b[0m 0.1619  \u001b[0m | \u001b[0m 0.2372  \u001b[0m | \u001b[0m 0.4523  \u001b[0m | \u001b[0m 0.009827\u001b[0m | \u001b[0m 117.8   \u001b[0m | \u001b[0m 9.598   \u001b[0m | \u001b[0m 663.3   \u001b[0m | \u001b[0m 11.99   \u001b[0m |\n",
      "| \u001b[0m 9       \u001b[0m | \u001b[0m 0.8865  \u001b[0m | \u001b[0m 0.2967  \u001b[0m | \u001b[0m 0.4799  \u001b[0m | \u001b[0m 1.409   \u001b[0m | \u001b[0m 0.02409 \u001b[0m | \u001b[0m 24.22   \u001b[0m | \u001b[0m 29.63   \u001b[0m | \u001b[0m 618.3   \u001b[0m | \u001b[0m 7.564   \u001b[0m |\n",
      "| \u001b[0m 10      \u001b[0m | \u001b[0m 0.868   \u001b[0m | \u001b[0m 0.1039  \u001b[0m | \u001b[0m 0.6708  \u001b[0m | \u001b[0m 7.069   \u001b[0m | \u001b[0m 0.0219  \u001b[0m | \u001b[0m 231.8   \u001b[0m | \u001b[0m 4.073   \u001b[0m | \u001b[0m 288.1   \u001b[0m | \u001b[0m 5.244   \u001b[0m |\n",
      "| \u001b[0m 11      \u001b[0m | \u001b[0m 0.9183  \u001b[0m | \u001b[0m 0.5475  \u001b[0m | \u001b[0m 0.4183  \u001b[0m | \u001b[0m 8.714   \u001b[0m | \u001b[0m 0.02487 \u001b[0m | \u001b[0m 287.1   \u001b[0m | \u001b[0m 27.8    \u001b[0m | \u001b[0m 477.3   \u001b[0m | \u001b[0m 19.99   \u001b[0m |\n",
      "| \u001b[0m 12      \u001b[0m | \u001b[0m 0.9065  \u001b[0m | \u001b[0m 0.1     \u001b[0m | \u001b[0m 0.1     \u001b[0m | \u001b[0m 10.0    \u001b[0m | \u001b[0m 0.006094\u001b[0m | \u001b[0m 268.5   \u001b[0m | \u001b[0m 24.7    \u001b[0m | \u001b[0m 507.4   \u001b[0m | \u001b[0m 30.0    \u001b[0m |\n",
      "| \u001b[0m 13      \u001b[0m | \u001b[0m 0.9243  \u001b[0m | \u001b[0m 0.5828  \u001b[0m | \u001b[0m 0.6492  \u001b[0m | \u001b[0m 9.854   \u001b[0m | \u001b[0m 0.02365 \u001b[0m | \u001b[0m 277.9   \u001b[0m | \u001b[0m 23.68   \u001b[0m | \u001b[0m 473.1   \u001b[0m | \u001b[0m 26.18   \u001b[0m |\n",
      "| \u001b[0m 14      \u001b[0m | \u001b[0m 0.9055  \u001b[0m | \u001b[0m 0.4061  \u001b[0m | \u001b[0m 0.1329  \u001b[0m | \u001b[0m 8.344   \u001b[0m | \u001b[0m 0.01583 \u001b[0m | \u001b[0m 50.1    \u001b[0m | \u001b[0m 10.38   \u001b[0m | \u001b[0m 96.46   \u001b[0m | \u001b[0m 16.41   \u001b[0m |\n",
      "| \u001b[0m 15      \u001b[0m | \u001b[0m 0.8918  \u001b[0m | \u001b[0m 0.3694  \u001b[0m | \u001b[0m 0.3216  \u001b[0m | \u001b[0m 8.366   \u001b[0m | \u001b[0m 0.01076 \u001b[0m | \u001b[0m 52.28   \u001b[0m | \u001b[0m 4.325   \u001b[0m | \u001b[0m 45.63   \u001b[0m | \u001b[0m 23.35   \u001b[0m |\n",
      "| \u001b[0m 16      \u001b[0m | \u001b[0m 0.9052  \u001b[0m | \u001b[0m 0.5458  \u001b[0m | \u001b[0m 0.4128  \u001b[0m | \u001b[0m 6.675   \u001b[0m | \u001b[0m 0.02114 \u001b[0m | \u001b[0m 256.6   \u001b[0m | \u001b[0m 19.93   \u001b[0m | \u001b[0m 592.2   \u001b[0m | \u001b[0m 15.35   \u001b[0m |\n",
      "| \u001b[0m 17      \u001b[0m | \u001b[0m 0.9203  \u001b[0m | \u001b[0m 0.4324  \u001b[0m | \u001b[0m 0.4615  \u001b[0m | \u001b[0m 9.168   \u001b[0m | \u001b[0m 0.01297 \u001b[0m | \u001b[0m 44.78   \u001b[0m | \u001b[0m 8.531   \u001b[0m | \u001b[0m 56.09   \u001b[0m | \u001b[0m 29.2    \u001b[0m |\n",
      "| \u001b[0m 18      \u001b[0m | \u001b[0m 0.9224  \u001b[0m | \u001b[0m 0.6305  \u001b[0m | \u001b[0m 0.7777  \u001b[0m | \u001b[0m 9.7     \u001b[0m | \u001b[0m 0.0222  \u001b[0m | \u001b[0m 241.6   \u001b[0m | \u001b[0m 22.46   \u001b[0m | \u001b[0m 542.1   \u001b[0m | \u001b[0m 27.34   \u001b[0m |\n",
      "| \u001b[0m 19      \u001b[0m | \u001b[0m 0.8882  \u001b[0m | \u001b[0m 0.1994  \u001b[0m | \u001b[0m 0.5557  \u001b[0m | \u001b[0m 1.831   \u001b[0m | \u001b[0m 0.002619\u001b[0m | \u001b[0m 271.0   \u001b[0m | \u001b[0m 27.33   \u001b[0m | \u001b[0m 479.0   \u001b[0m | \u001b[0m 21.37   \u001b[0m |\n",
      "| \u001b[0m 20      \u001b[0m | \u001b[0m 0.8828  \u001b[0m | \u001b[0m 0.1288  \u001b[0m | \u001b[0m 0.6481  \u001b[0m | \u001b[0m 8.389   \u001b[0m | \u001b[0m 0.001875\u001b[0m | \u001b[0m 280.9   \u001b[0m | \u001b[0m 16.48   \u001b[0m | \u001b[0m 480.5   \u001b[0m | \u001b[0m 21.8    \u001b[0m |\n",
      "| \u001b[0m 21      \u001b[0m | \u001b[0m 0.8599  \u001b[0m | \u001b[0m 0.3918  \u001b[0m | \u001b[0m 0.4859  \u001b[0m | \u001b[0m 9.61    \u001b[0m | \u001b[0m 0.0209  \u001b[0m | \u001b[0m 274.5   \u001b[0m | \u001b[0m 2.022   \u001b[0m | \u001b[0m 782.9   \u001b[0m | \u001b[0m 10.4    \u001b[0m |\n",
      "| \u001b[95m 22      \u001b[0m | \u001b[95m 0.927   \u001b[0m | \u001b[95m 0.57    \u001b[0m | \u001b[95m 0.1702  \u001b[0m | \u001b[95m 3.938   \u001b[0m | \u001b[95m 0.01992 \u001b[0m | \u001b[95m 233.8   \u001b[0m | \u001b[95m 18.07   \u001b[0m | \u001b[95m 197.6   \u001b[0m | \u001b[95m 28.51   \u001b[0m |\n",
      "| \u001b[0m 23      \u001b[0m | \u001b[0m 0.8897  \u001b[0m | \u001b[0m 0.2397  \u001b[0m | \u001b[0m 0.7401  \u001b[0m | \u001b[0m 8.592   \u001b[0m | \u001b[0m 0.003427\u001b[0m | \u001b[0m 283.7   \u001b[0m | \u001b[0m 23.62   \u001b[0m | \u001b[0m 465.1   \u001b[0m | \u001b[0m 29.02   \u001b[0m |\n",
      "| \u001b[0m 24      \u001b[0m | \u001b[0m 0.8559  \u001b[0m | \u001b[0m 0.6504  \u001b[0m | \u001b[0m 0.1961  \u001b[0m | \u001b[0m 9.352   \u001b[0m | \u001b[0m 0.009707\u001b[0m | \u001b[0m 180.1   \u001b[0m | \u001b[0m 28.17   \u001b[0m | \u001b[0m 182.0   \u001b[0m | \u001b[0m 2.644   \u001b[0m |\n",
      "| \u001b[0m 25      \u001b[0m | \u001b[0m 0.9175  \u001b[0m | \u001b[0m 0.5843  \u001b[0m | \u001b[0m 0.2434  \u001b[0m | \u001b[0m 7.271   \u001b[0m | \u001b[0m 0.02597 \u001b[0m | \u001b[0m 22.93   \u001b[0m | \u001b[0m 4.693   \u001b[0m | \u001b[0m 152.1   \u001b[0m | \u001b[0m 18.8    \u001b[0m |\n",
      "=========================================================================================================================\n"
     ]
    }
   ],
   "source": [
    "opt_params_os = bayes_parameter_opt_lgb_bal(treino_x_os, treino_y_os, init_round=10, opt_round=15, n_folds=5, random_seed=42)"
   ]
  },
  {
   "cell_type": "code",
   "execution_count": 59,
   "metadata": {},
   "outputs": [],
   "source": [
    "params_os = dict(opt_params_os['params'])"
   ]
  },
  {
   "cell_type": "code",
   "execution_count": 60,
   "metadata": {},
   "outputs": [
    {
     "data": {
      "text/plain": [
       "{'bagging_fraction': 0.5700145601811708,\n",
       " 'feature_fraction': 0.17021067096251494,\n",
       " 'lambda_l1': 3.93820281694092,\n",
       " 'learning_rate': 0.019921599837139398,\n",
       " 'max_bin': 234,\n",
       " 'max_depth': 18,\n",
       " 'min_data_in_leaf': 198,\n",
       " 'num_leaves': 29,\n",
       " 'objective': 'binary',\n",
       " 'metric': 'auc',\n",
       " 'verbose': -1}"
      ]
     },
     "execution_count": 60,
     "metadata": {},
     "output_type": "execute_result"
    }
   ],
   "source": [
    "params_os[\"num_leaves\"] = int(round(opt_params_os['params'][\"num_leaves\"]))\n",
    "params_os['max_depth'] = int(round(opt_params_os['params']['max_depth']))\n",
    "params_os['min_data_in_leaf'] = int(round(opt_params_os['params']['min_data_in_leaf']))\n",
    "params_os['max_bin'] = int(round(opt_params_os['params']['max_bin']))\n",
    "params_os['objective']='binary'\n",
    "params_os['metric']='auc'\n",
    "params_os['verbose']=-1\n",
    "params_os"
   ]
  },
  {
   "cell_type": "code",
   "execution_count": 61,
   "metadata": {},
   "outputs": [],
   "source": [
    "trn_data = lgb.Dataset(treino_x_os, label=treino_y_os)"
   ]
  },
  {
   "cell_type": "code",
   "execution_count": 62,
   "metadata": {},
   "outputs": [
    {
     "name": "stdout",
     "output_type": "stream",
     "text": [
      "Score treino: 0.93141 \n",
      "Score validação: 0.83765 \n",
      "Score teste: 0.81492 \n",
      "F1 treino: 0.36804 \n",
      "F1 validação: 0.40759 \n",
      "F1 teste: 0.49746 \n",
      "cm treino: \n",
      "[[21504  4307]\n",
      " [  185  1308]]\n",
      "cm validação: \n",
      "[[21701  3797]\n",
      " [ 1011  1654]]\n",
      "cm teste: \n",
      "[[21423  3143]\n",
      " [ 2403  2745]]\n"
     ]
    }
   ],
   "source": [
    "modelo_os = lgb.train(params_os, trn_data, valid_sets = [trn_data, val_data], verbose_eval=False, early_stopping_rounds = 20)\n",
    "probaT_os = modelo_os.predict(treino_xf)\n",
    "probaV_os = modelo_os.predict(validacao_xf)\n",
    "proba_os = modelo_os.predict(teste_xf)\n",
    "\n",
    "preditoT_os = vFuncPred(probaT_os)\n",
    "preditoV_os = vFuncPred(probaV_os)\n",
    "predito_os = vFuncPred(proba_os)\n",
    "\n",
    "print(\"Score treino: {:<8.5f}\".format(roc_auc_score(treino_y, probaT_os)))\n",
    "print(\"Score validação: {:<8.5f}\".format(roc_auc_score(validacao_y, probaV_os)))\n",
    "print(\"Score teste: {:<8.5f}\".format(roc_auc_score(teste_y, proba_os)))\n",
    "\n",
    "print(\"F1 treino: {:<8.5f}\".format(f1_score(treino_y, preditoT_os)))\n",
    "print(\"F1 validação: {:<8.5f}\".format(f1_score(validacao_y, preditoV_os)))\n",
    "print(\"F1 teste: {:<8.5f}\".format(f1_score(teste_y, predito_os)))\n",
    "\n",
    "print(\"cm treino: \\n{}\".format(confusion_matrix(treino_y, preditoT_os)))\n",
    "print(\"cm validação: \\n{}\".format(confusion_matrix(validacao_y, preditoV_os)))\n",
    "print(\"cm teste: \\n{}\".format(confusion_matrix(teste_y, predito_os)))\n"
   ]
  },
  {
   "cell_type": "code",
   "execution_count": 63,
   "metadata": {},
   "outputs": [
    {
     "name": "stdout",
     "output_type": "stream",
     "text": [
      "              precision    recall  f1-score   support\n",
      "\n",
      "           0       0.90      0.87      0.89     24566\n",
      "           1       0.47      0.53      0.50      5148\n",
      "\n",
      "    accuracy                           0.81     29714\n",
      "   macro avg       0.68      0.70      0.69     29714\n",
      "weighted avg       0.82      0.81      0.82     29714\n",
      "\n"
     ]
    }
   ],
   "source": [
    "print(classification_report(teste_y, predito_os))"
   ]
  },
  {
   "cell_type": "markdown",
   "metadata": {},
   "source": [
    "# Cluster"
   ]
  },
  {
   "cell_type": "markdown",
   "metadata": {},
   "source": [
    "Com os resultados do shap vou utilizar o algoritmo Kmeans para tentar segmentar as escolas com aprendizado adequado ou não. Para depois, utilizando o SkopeRules, traduzir as regras de cada cluster."
   ]
  },
  {
   "cell_type": "code",
   "execution_count": 64,
   "metadata": {},
   "outputs": [],
   "source": [
    "from sklearn.cluster import KMeans\n",
    "from sklearn.metrics import silhouette_score\n",
    "from IPython.display import display_html"
   ]
  },
  {
   "cell_type": "code",
   "execution_count": 65,
   "metadata": {},
   "outputs": [
    {
     "name": "stdout",
     "output_type": "stream",
     "text": [
      "Total:  (27304, 187)\n",
      "50%:  13652\n"
     ]
    }
   ],
   "source": [
    "print('Total: ', shap_values[1].shape)\n",
    "tamanho_amostra = int(shap_values[1].shape[0]*0.5)\n",
    "print('50%: ', tamanho_amostra)\n",
    "random_indices = np.random.choice(shap_values[1].shape[0], size=tamanho_amostra, replace=False)\n",
    "X = shap_values[1][random_indices,:]"
   ]
  },
  {
   "cell_type": "code",
   "execution_count": 66,
   "metadata": {},
   "outputs": [
    {
     "name": "stdout",
     "output_type": "stream",
     "text": [
      "Amostra treino_xf:  (13652, 187)\n"
     ]
    }
   ],
   "source": [
    "Xf = treino_xf.iloc[random_indices,:]\n",
    "print('Amostra treino_xf: ', Xf.shape)"
   ]
  },
  {
   "cell_type": "code",
   "execution_count": 67,
   "metadata": {},
   "outputs": [],
   "source": [
    "kw = {'random_state': 42}\n",
    "# X = shap_values[1]\n",
    "\n",
    "inertia = []\n",
    "silhueta = []\n",
    "for i in list(range(2,11)): \n",
    "    km = KMeans(n_clusters=i, **kw)\n",
    "    km.fit(X)\n",
    "    inertia.append(km.inertia_)\n",
    "    silhueta.append(silhouette_score(X, km.labels_, random_state=42))"
   ]
  },
  {
   "cell_type": "code",
   "execution_count": 68,
   "metadata": {},
   "outputs": [
    {
     "name": "stdout",
     "output_type": "stream",
     "text": [
      "Inertia\n"
     ]
    },
    {
     "data": {
      "text/plain": [
       "<matplotlib.axes._subplots.AxesSubplot at 0x20a3f6caa08>"
      ]
     },
     "execution_count": 68,
     "metadata": {},
     "output_type": "execute_result"
    },
    {
     "data": {
      "image/png": "[encoded data removed]",
      "text/plain": [
       "<Figure size 720x504 with 1 Axes>"
      ]
     },
     "metadata": {
      "needs_background": "light"
     },
     "output_type": "display_data"
    }
   ],
   "source": [
    "print('Inertia')\n",
    "pd.Series(inertia, range(2,11)).plot(figsize=(10,7))"
   ]
  },
  {
   "cell_type": "code",
   "execution_count": 69,
   "metadata": {},
   "outputs": [
    {
     "name": "stdout",
     "output_type": "stream",
     "text": [
      "Silhouette\n"
     ]
    },
    {
     "data": {
      "text/plain": [
       "<matplotlib.axes._subplots.AxesSubplot at 0x20a3f77d488>"
      ]
     },
     "execution_count": 69,
     "metadata": {},
     "output_type": "execute_result"
    },
    {
     "data": {
      "image/png": "[encoded data removed]",
      "text/plain": [
       "<Figure size 720x504 with 1 Axes>"
      ]
     },
     "metadata": {
      "needs_background": "light"
     },
     "output_type": "display_data"
    }
   ],
   "source": [
    "print('Silhouette')\n",
    "pd.Series(silhueta, range(2,11)).plot(figsize=(10,7))"
   ]
  },
  {
   "cell_type": "markdown",
   "metadata": {},
   "source": [
    "Silhuete score indica que o melhor número de cluster é 2."
   ]
  },
  {
   "cell_type": "code",
   "execution_count": 70,
   "metadata": {},
   "outputs": [
    {
     "data": {
      "text/plain": [
       "KMeans(n_clusters=2, random_state=42)"
      ]
     },
     "execution_count": 70,
     "metadata": {},
     "output_type": "execute_result"
    }
   ],
   "source": [
    "n_clusters = 2\n",
    "kmeans = KMeans(n_clusters=n_clusters, **kw)\n",
    "kmeans.fit(shap_values[1])"
   ]
  },
  {
   "cell_type": "markdown",
   "metadata": {},
   "source": [
    "Defini uma função que vai separar os dados de cada cluster e aplicar o algoritmo SkopeRules. Este algoritmo (de árvore) traduz as regras que ele encontrou em cada cluster. Ele também informa o quanto a regra informada está coerente com o cluster."
   ]
  },
  {
   "cell_type": "code",
   "execution_count": 71,
   "metadata": {},
   "outputs": [],
   "source": [
    "import six\n",
    "import sys\n",
    "sys.modules['sklearn.externals.six'] = six"
   ]
  },
  {
   "cell_type": "code",
   "execution_count": 72,
   "metadata": {},
   "outputs": [],
   "source": [
    "from skrules import SkopeRules"
   ]
  },
  {
   "cell_type": "code",
   "execution_count": 73,
   "metadata": {},
   "outputs": [],
   "source": [
    "def get_cluster_rules(algo, X, topk=None, fillna=-999):\n",
    "    if topk is not None:\n",
    "        topk_feats = X.columns[feature_order[:topk]].values\n",
    "    else:\n",
    "        topk_feats = X.columns\n",
    "        \n",
    "    rules_query = dict()\n",
    "    for i_cluster in np.unique(kmeans.labels_):\n",
    "        X_rules = X[topk_feats]\n",
    "        y_rules = (algo.labels_ == i_cluster)*1\n",
    "        skope_rules_clf = SkopeRules(\n",
    "            feature_names=topk_feats,\n",
    "            random_state=42,\n",
    "            n_estimators=30,\n",
    "            recall_min=0.5,\n",
    "            precision_min=0.5,\n",
    "            max_depth_duplication=3,\n",
    "            min_samples_split=300,\n",
    "            max_samples=0.8,\n",
    "            max_depth=4\n",
    "        )\n",
    "        \n",
    "        skope_rules_clf.fit(X_rules.fillna(fillna), y_rules)\n",
    "        rules_query[i_cluster] = skope_rules_clf.rules_[0][0]\n",
    "        print('Cluster ' , i_cluster)\n",
    "        print(skope_rules_clf.rules_)\n",
    "        print()\n",
    "        \n",
    "    return rules_query"
   ]
  },
  {
   "cell_type": "code",
   "execution_count": 74,
   "metadata": {},
   "outputs": [
    {
     "name": "stdout",
     "output_type": "stream",
     "text": [
      "Cluster  0\n",
      "[('ID_MUNICIPIO > 2933356.5', (0.9999286399368542, 1.0, 8)), ('ID_MUNICIPIO > 2933381.0 and TX_RESP_Q042 <= 3.5', (1.0, 0.9921187560019452, 14))]\n",
      "\n",
      "Cluster  1\n",
      "[('ID_MUNICIPIO <= 2933356.5', (1.0, 0.9999000676474918, 46))]\n",
      "\n"
     ]
    }
   ],
   "source": [
    "kmeans_rules = get_cluster_rules(kmeans, treino_xf, topk=None)"
   ]
  },
  {
   "cell_type": "code",
   "execution_count": 75,
   "metadata": {},
   "outputs": [
    {
     "data": {
      "text/plain": [
       "{0: 'ID_MUNICIPIO > 2933356.5', 1: 'ID_MUNICIPIO <= 2933356.5'}"
      ]
     },
     "execution_count": 75,
     "metadata": {},
     "output_type": "execute_result"
    }
   ],
   "source": [
    "kmeans_rules"
   ]
  },
  {
   "cell_type": "markdown",
   "metadata": {},
   "source": [
    "As regras se basearam no código de município. O código delimita o município da Bahia (UF 29), ou seja, municpios das regiões Norte e Nordeste não tem aprendizado adequado, enquanto os demais tem."
   ]
  },
  {
   "cell_type": "markdown",
   "metadata": {},
   "source": [
    "### Testar regras\n",
    "\n",
    "Aplica regras no dataframe original."
   ]
  },
  {
   "cell_type": "code",
   "execution_count": 76,
   "metadata": {},
   "outputs": [],
   "source": [
    "def evaluate_rules(rules, df, fillna=-999):\n",
    "    df_clust = df.copy()\n",
    "    df_clust['cluster'] = 'Outros'\n",
    "    \n",
    "    for cluster, rule in rules.items():\n",
    "        mask = df_clust.fillna(fillna).eval(rule)\n",
    "        df_clust.loc[mask, 'cluster'] = str(cluster)\n",
    "        \n",
    "    return df_clust"
   ]
  },
  {
   "cell_type": "code",
   "execution_count": 77,
   "metadata": {},
   "outputs": [],
   "source": [
    "df_kmeans = evaluate_rules(kmeans_rules, df_limpo)"
   ]
  },
  {
   "cell_type": "code",
   "execution_count": 78,
   "metadata": {},
   "outputs": [
    {
     "data": {
      "text/html": [
       "<div>\n",
       "<style scoped>\n",
       "    .dataframe tbody tr th:only-of-type {\n",
       "        vertical-align: middle;\n",
       "    }\n",
       "\n",
       "    .dataframe tbody tr th {\n",
       "        vertical-align: top;\n",
       "    }\n",
       "\n",
       "    .dataframe thead th {\n",
       "        text-align: right;\n",
       "    }\n",
       "</style>\n",
       "<table border=\"1\" class=\"dataframe\">\n",
       "  <thead>\n",
       "    <tr style=\"text-align: right;\">\n",
       "      <th></th>\n",
       "      <th>TARGET</th>\n",
       "      <th>ID_MUNICIPIO</th>\n",
       "      <th>TAXA_PARTICIPACAO_9EF</th>\n",
       "      <th>PROF_TX_RESP_Q096</th>\n",
       "      <th>PC_FORMACAO_DOCENTE_FINAL</th>\n",
       "      <th>PROF_TX_RESP_Q099</th>\n",
       "      <th>PROF_TX_RESP_Q106</th>\n",
       "      <th>DIRETOR_TX_RESP_Q038</th>\n",
       "    </tr>\n",
       "    <tr>\n",
       "      <th>cluster</th>\n",
       "      <th></th>\n",
       "      <th></th>\n",
       "      <th></th>\n",
       "      <th></th>\n",
       "      <th></th>\n",
       "      <th></th>\n",
       "      <th></th>\n",
       "      <th></th>\n",
       "    </tr>\n",
       "  </thead>\n",
       "  <tbody>\n",
       "    <tr>\n",
       "      <th>0</th>\n",
       "      <td>0.156</td>\n",
       "      <td>3,869,229.599</td>\n",
       "      <td>0.832</td>\n",
       "      <td>1.148</td>\n",
       "      <td>65.125</td>\n",
       "      <td>3.288</td>\n",
       "      <td>3.309</td>\n",
       "      <td>0.857</td>\n",
       "    </tr>\n",
       "    <tr>\n",
       "      <th>1</th>\n",
       "      <td>0.041</td>\n",
       "      <td>2,276,096.167</td>\n",
       "      <td>0.856</td>\n",
       "      <td>1.192</td>\n",
       "      <td>40.062</td>\n",
       "      <td>3.205</td>\n",
       "      <td>3.108</td>\n",
       "      <td>0.749</td>\n",
       "    </tr>\n",
       "  </tbody>\n",
       "</table>\n",
       "</div>"
      ],
      "text/plain": [
       "         TARGET  ID_MUNICIPIO  TAXA_PARTICIPACAO_9EF  PROF_TX_RESP_Q096  \\\n",
       "cluster                                                                   \n",
       "0         0.156 3,869,229.599                  0.832              1.148   \n",
       "1         0.041 2,276,096.167                  0.856              1.192   \n",
       "\n",
       "         PC_FORMACAO_DOCENTE_FINAL  PROF_TX_RESP_Q099  PROF_TX_RESP_Q106  \\\n",
       "cluster                                                                    \n",
       "0                           65.125              3.288              3.309   \n",
       "1                           40.062              3.205              3.108   \n",
       "\n",
       "         DIRETOR_TX_RESP_Q038  \n",
       "cluster                        \n",
       "0                       0.857  \n",
       "1                       0.749  "
      ]
     },
     "execution_count": 78,
     "metadata": {},
     "output_type": "execute_result"
    }
   ],
   "source": [
    "top_7 = list(treino_xf.columns[ordem_vars[:7]])\n",
    "df_kmeans.groupby('cluster')[['TARGET'] + top_7].mean()"
   ]
  },
  {
   "cell_type": "markdown",
   "metadata": {},
   "source": [
    "Depois de aplicadas as regras, quis entender qual valor das 7 variáveis mais importantes pro modelo para cada cluster.\n",
    "\n",
    "Fica nitica a diferença da variável target, temos muito mais escolas com aprendizado adequado no cluster 0 (15,6%). Já a taxa de partipação é semelhante, e está até menor no cluster 0. Já o Percentual de Formação está bem diferente, 25 p.p acima do cluster 1.\n",
    "\n",
    "As variáveis dos questionários precisam ser interpretadas separadamente, olhando o shap e a descrição de cada um e que letra representa cada valor."
   ]
  },
  {
   "cell_type": "code",
   "execution_count": 79,
   "metadata": {},
   "outputs": [],
   "source": [
    "df_kmeans['cluster_num'] = df_kmeans['cluster'].astype('int')"
   ]
  },
  {
   "cell_type": "code",
   "execution_count": 90,
   "metadata": {},
   "outputs": [
    {
     "data": {
      "text/plain": [
       "(85181, 187)"
      ]
     },
     "execution_count": 90,
     "metadata": {},
     "output_type": "execute_result"
    }
   ],
   "source": [
    "df_final = df_kmeans[treino_x.columns[selecionadas]]\n",
    "df_final.shape"
   ]
  },
  {
   "cell_type": "code",
   "execution_count": 91,
   "metadata": {},
   "outputs": [
    {
     "data": {
      "text/plain": [
       "(85181, 314)"
      ]
     },
     "execution_count": 91,
     "metadata": {},
     "output_type": "execute_result"
    }
   ],
   "source": [
    "df_kmeans['proba'] = modelo.predict(df_final)\n",
    "df_kmeans.shape"
   ]
  },
  {
   "cell_type": "code",
   "execution_count": 92,
   "metadata": {},
   "outputs": [
    {
     "data": {
      "text/plain": [
       "(85181, 315)"
      ]
     },
     "execution_count": 92,
     "metadata": {},
     "output_type": "execute_result"
    }
   ],
   "source": [
    "df_kmeans['predito'] = df_kmeans['proba'].apply(lambda x: 1 if x > 0.5 else 0)\n",
    "df_kmeans.shape"
   ]
  },
  {
   "cell_type": "code",
   "execution_count": 93,
   "metadata": {},
   "outputs": [
    {
     "data": {
      "text/plain": [
       "(85181, 316)"
      ]
     },
     "execution_count": 93,
     "metadata": {},
     "output_type": "execute_result"
    }
   ],
   "source": [
    "df_kmeans['ID_UF'] = df['ID_UF']\n",
    "df_kmeans.shape"
   ]
  },
  {
   "cell_type": "code",
   "execution_count": 94,
   "metadata": {},
   "outputs": [],
   "source": [
    "df_kmeans.to_csv('ABT_FINAL.csv')"
   ]
  },
  {
   "cell_type": "markdown",
   "metadata": {},
   "source": [
    "Adiciona variáveis de resposta do modelo e UF e salva a base. Essa base será utilizada para geração dos mapas e entendimento dos resultados."
   ]
  }
 ],
 "metadata": {
  "environment": {
   "name": "tf2-2-2-gpu.2-2.m50",
   "type": "gcloud",
   "uri": "gcr.io/deeplearning-platform-release/tf2-2-2-gpu.2-2:m50"
  },
  "kernelspec": {
   "display_name": "Python 3",
   "language": "python",
   "name": "python3"
  },
  "language_info": {
   "codemirror_mode": {
    "name": "ipython",
    "version": 3
   },
   "file_extension": ".py",
   "mimetype": "text/x-python",
   "name": "python",
   "nbconvert_exporter": "python",
   "pygments_lexer": "ipython3",
   "version": "3.7.6"
  }
 },
 "nbformat": 4,
 "nbformat_minor": 4
}
